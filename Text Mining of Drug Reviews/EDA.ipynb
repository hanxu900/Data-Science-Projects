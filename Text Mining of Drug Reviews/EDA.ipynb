{
  "nbformat": 4,
  "nbformat_minor": 0,
  "metadata": {
    "colab": {
      "name": "EDA.ipynb",
      "provenance": [],
      "toc_visible": true
    },
    "kernelspec": {
      "name": "python3",
      "display_name": "Python 3"
    },
    "language_info": {
      "name": "python"
    }
  },
  "cells": [
    {
      "cell_type": "markdown",
      "source": [
        "## Data Preprocessing"
      ],
      "metadata": {
        "id": "Vo-jakNL6qcE"
      }
    },
    {
      "cell_type": "code",
      "source": [
        "import numpy as np\n",
        "import pandas as pd\n",
        "import string\n",
        "\n",
        "import matplotlib.pyplot as plt\n",
        "import seaborn as sns\n",
        "\n",
        "import ipywidgets\n",
        "from ipywidgets import interact\n",
        "\n",
        "plt.rcParams['figure.figsize'] = (15, 5)\n",
        "plt.style.use('fivethirtyeight')"
      ],
      "metadata": {
        "id": "JTJ0MB_q6qpv"
      },
      "execution_count": 1,
      "outputs": []
    },
    {
      "cell_type": "code",
      "source": [
        "data = pd.read_excel('drugs.xlsx')\n",
        "data = data.drop(columns=['class','username', 'duration'])\n",
        "print(\"The Shape of the Dataset :\", data.shape)"
      ],
      "metadata": {
        "colab": {
          "base_uri": "https://localhost:8080/"
        },
        "id": "ANoK_0NDHCO_",
        "outputId": "d78ab04f-de97-4604-cded-1771859a6875"
      },
      "execution_count": 7,
      "outputs": [
        {
          "output_type": "stream",
          "name": "stdout",
          "text": [
            "The Shape of the Dataset : (20423, 6)\n"
          ]
        }
      ]
    },
    {
      "cell_type": "code",
      "source": [
        "data.head()"
      ],
      "metadata": {
        "colab": {
          "base_uri": "https://localhost:8080/",
          "height": 319
        },
        "id": "v_wDAOeEHHiq",
        "outputId": "c6f21904-5302-4688-9a3b-9d9ab88cfafd"
      },
      "execution_count": 8,
      "outputs": [
        {
          "output_type": "execute_result",
          "data": {
            "text/plain": [
              "  drugName            date                     condition  \\\n",
              "0  lexapro   April 4, 2022                    Depression   \n",
              "1  lexapro   April 3, 2022  Generalized Anxiety Disorder   \n",
              "2  lexapro  March 21, 2022                       Anxiety   \n",
              "3  lexapro  March 17, 2022                       Anxiety   \n",
              "4  lexapro  March 16, 2022  Generalized Anxiety Disorder   \n",
              "\n",
              "                                              review  rating  usefulCount  \n",
              "0  “I have previously been on Celexa, Wellbutrin ...    10.0            0  \n",
              "1  “I said I would come back in a few weeks. It’s...     NaN            3  \n",
              "2  “Lexapro has been extremely helpful and change...    10.0            2  \n",
              "3  “I have been taking Lexapro for about 8 months...    10.0            1  \n",
              "4  “I begin taking this drug 10 years ago when I ...    10.0           18  "
            ],
            "text/html": [
              "\n",
              "  <div id=\"df-f053ac86-c851-48c0-84df-8b8d02688686\">\n",
              "    <div class=\"colab-df-container\">\n",
              "      <div>\n",
              "<style scoped>\n",
              "    .dataframe tbody tr th:only-of-type {\n",
              "        vertical-align: middle;\n",
              "    }\n",
              "\n",
              "    .dataframe tbody tr th {\n",
              "        vertical-align: top;\n",
              "    }\n",
              "\n",
              "    .dataframe thead th {\n",
              "        text-align: right;\n",
              "    }\n",
              "</style>\n",
              "<table border=\"1\" class=\"dataframe\">\n",
              "  <thead>\n",
              "    <tr style=\"text-align: right;\">\n",
              "      <th></th>\n",
              "      <th>drugName</th>\n",
              "      <th>date</th>\n",
              "      <th>condition</th>\n",
              "      <th>review</th>\n",
              "      <th>rating</th>\n",
              "      <th>usefulCount</th>\n",
              "    </tr>\n",
              "  </thead>\n",
              "  <tbody>\n",
              "    <tr>\n",
              "      <th>0</th>\n",
              "      <td>lexapro</td>\n",
              "      <td>April 4, 2022</td>\n",
              "      <td>Depression</td>\n",
              "      <td>“I have previously been on Celexa, Wellbutrin ...</td>\n",
              "      <td>10.0</td>\n",
              "      <td>0</td>\n",
              "    </tr>\n",
              "    <tr>\n",
              "      <th>1</th>\n",
              "      <td>lexapro</td>\n",
              "      <td>April 3, 2022</td>\n",
              "      <td>Generalized Anxiety Disorder</td>\n",
              "      <td>“I said I would come back in a few weeks. It’s...</td>\n",
              "      <td>NaN</td>\n",
              "      <td>3</td>\n",
              "    </tr>\n",
              "    <tr>\n",
              "      <th>2</th>\n",
              "      <td>lexapro</td>\n",
              "      <td>March 21, 2022</td>\n",
              "      <td>Anxiety</td>\n",
              "      <td>“Lexapro has been extremely helpful and change...</td>\n",
              "      <td>10.0</td>\n",
              "      <td>2</td>\n",
              "    </tr>\n",
              "    <tr>\n",
              "      <th>3</th>\n",
              "      <td>lexapro</td>\n",
              "      <td>March 17, 2022</td>\n",
              "      <td>Anxiety</td>\n",
              "      <td>“I have been taking Lexapro for about 8 months...</td>\n",
              "      <td>10.0</td>\n",
              "      <td>1</td>\n",
              "    </tr>\n",
              "    <tr>\n",
              "      <th>4</th>\n",
              "      <td>lexapro</td>\n",
              "      <td>March 16, 2022</td>\n",
              "      <td>Generalized Anxiety Disorder</td>\n",
              "      <td>“I begin taking this drug 10 years ago when I ...</td>\n",
              "      <td>10.0</td>\n",
              "      <td>18</td>\n",
              "    </tr>\n",
              "  </tbody>\n",
              "</table>\n",
              "</div>\n",
              "      <button class=\"colab-df-convert\" onclick=\"convertToInteractive('df-f053ac86-c851-48c0-84df-8b8d02688686')\"\n",
              "              title=\"Convert this dataframe to an interactive table.\"\n",
              "              style=\"display:none;\">\n",
              "        \n",
              "  <svg xmlns=\"http://www.w3.org/2000/svg\" height=\"24px\"viewBox=\"0 0 24 24\"\n",
              "       width=\"24px\">\n",
              "    <path d=\"M0 0h24v24H0V0z\" fill=\"none\"/>\n",
              "    <path d=\"M18.56 5.44l.94 2.06.94-2.06 2.06-.94-2.06-.94-.94-2.06-.94 2.06-2.06.94zm-11 1L8.5 8.5l.94-2.06 2.06-.94-2.06-.94L8.5 2.5l-.94 2.06-2.06.94zm10 10l.94 2.06.94-2.06 2.06-.94-2.06-.94-.94-2.06-.94 2.06-2.06.94z\"/><path d=\"M17.41 7.96l-1.37-1.37c-.4-.4-.92-.59-1.43-.59-.52 0-1.04.2-1.43.59L10.3 9.45l-7.72 7.72c-.78.78-.78 2.05 0 2.83L4 21.41c.39.39.9.59 1.41.59.51 0 1.02-.2 1.41-.59l7.78-7.78 2.81-2.81c.8-.78.8-2.07 0-2.86zM5.41 20L4 18.59l7.72-7.72 1.47 1.35L5.41 20z\"/>\n",
              "  </svg>\n",
              "      </button>\n",
              "      \n",
              "  <style>\n",
              "    .colab-df-container {\n",
              "      display:flex;\n",
              "      flex-wrap:wrap;\n",
              "      gap: 12px;\n",
              "    }\n",
              "\n",
              "    .colab-df-convert {\n",
              "      background-color: #E8F0FE;\n",
              "      border: none;\n",
              "      border-radius: 50%;\n",
              "      cursor: pointer;\n",
              "      display: none;\n",
              "      fill: #1967D2;\n",
              "      height: 32px;\n",
              "      padding: 0 0 0 0;\n",
              "      width: 32px;\n",
              "    }\n",
              "\n",
              "    .colab-df-convert:hover {\n",
              "      background-color: #E2EBFA;\n",
              "      box-shadow: 0px 1px 2px rgba(60, 64, 67, 0.3), 0px 1px 3px 1px rgba(60, 64, 67, 0.15);\n",
              "      fill: #174EA6;\n",
              "    }\n",
              "\n",
              "    [theme=dark] .colab-df-convert {\n",
              "      background-color: #3B4455;\n",
              "      fill: #D2E3FC;\n",
              "    }\n",
              "\n",
              "    [theme=dark] .colab-df-convert:hover {\n",
              "      background-color: #434B5C;\n",
              "      box-shadow: 0px 1px 3px 1px rgba(0, 0, 0, 0.15);\n",
              "      filter: drop-shadow(0px 1px 2px rgba(0, 0, 0, 0.3));\n",
              "      fill: #FFFFFF;\n",
              "    }\n",
              "  </style>\n",
              "\n",
              "      <script>\n",
              "        const buttonEl =\n",
              "          document.querySelector('#df-f053ac86-c851-48c0-84df-8b8d02688686 button.colab-df-convert');\n",
              "        buttonEl.style.display =\n",
              "          google.colab.kernel.accessAllowed ? 'block' : 'none';\n",
              "\n",
              "        async function convertToInteractive(key) {\n",
              "          const element = document.querySelector('#df-f053ac86-c851-48c0-84df-8b8d02688686');\n",
              "          const dataTable =\n",
              "            await google.colab.kernel.invokeFunction('convertToInteractive',\n",
              "                                                     [key], {});\n",
              "          if (!dataTable) return;\n",
              "\n",
              "          const docLinkHtml = 'Like what you see? Visit the ' +\n",
              "            '<a target=\"_blank\" href=https://colab.research.google.com/notebooks/data_table.ipynb>data table notebook</a>'\n",
              "            + ' to learn more about interactive tables.';\n",
              "          element.innerHTML = '';\n",
              "          dataTable['output_type'] = 'display_data';\n",
              "          await google.colab.output.renderOutput(dataTable, element);\n",
              "          const docLink = document.createElement('div');\n",
              "          docLink.innerHTML = docLinkHtml;\n",
              "          element.appendChild(docLink);\n",
              "        }\n",
              "      </script>\n",
              "    </div>\n",
              "  </div>\n",
              "  "
            ]
          },
          "metadata": {},
          "execution_count": 8
        }
      ]
    },
    {
      "cell_type": "code",
      "source": [
        "# Explore Some of the Important Columns in the dataset\n",
        "\n",
        "print(\"Number of Unique Drugs present in the Dataset :\", data['drugName'].nunique())\n",
        "print(\"Number of Unique Medical Conditions present in the Dataset :\", data['condition'].nunique())\n",
        "\n",
        "print(\"\\nThe Time Period of Collecting the Data\")\n",
        "print(\"Starting Date :\", data['date'].min())\n",
        "print(\"Ending Date :\", data['date'].max())"
      ],
      "metadata": {
        "colab": {
          "base_uri": "https://localhost:8080/"
        },
        "id": "2z37wh1CHHle",
        "outputId": "38529769-c779-4630-d807-4170a1d73000"
      },
      "execution_count": 10,
      "outputs": [
        {
          "output_type": "stream",
          "name": "stdout",
          "text": [
            "Number of Unique Drugs present in the Dataset : 16\n",
            "Number of Unique Medical Conditions present in the Dataset : 114\n",
            "\n",
            "The Time Period of Collecting the Data\n",
            "Starting Date : April 1, 2010\n",
            "Ending Date : September 9, 2021\n"
          ]
        }
      ]
    },
    {
      "cell_type": "code",
      "source": [
        "# see how many reviews are there for every condition\n",
        "data.groupby('condition').count().sort_values(by='drugName',ascending=False)['drugName']"
      ],
      "metadata": {
        "colab": {
          "base_uri": "https://localhost:8080/"
        },
        "id": "6QD7FOlEHZT6",
        "outputId": "7a83b0ba-7c38-4eb2-8844-5118e90b3e1d"
      },
      "execution_count": 11,
      "outputs": [
        {
          "output_type": "execute_result",
          "data": {
            "text/plain": [
              "condition\n",
              "Depression                                                    6377\n",
              "Anxiety                                                       2459\n",
              "Major Depressive Disorder                                     1733\n",
              "Insomnia                                                      1249\n",
              "Anxiety and Stress                                             979\n",
              "                                                              ... \n",
              "Remeron (mirtazapine) for Hot Flashes                            1\n",
              "Body Dysmorphic Disorder                                         1\n",
              "Remeron SolTab (mirtazapine) for Major Depressive Disorder       1\n",
              "Budeprion (bupropion)                                            1\n",
              "Remeron SolTab (mirtazapine) for Insomnia                        1\n",
              "Name: drugName, Length: 114, dtype: int64"
            ]
          },
          "metadata": {},
          "execution_count": 11
        }
      ]
    },
    {
      "cell_type": "code",
      "source": [
        "def clean_condition(con):\n",
        "    if 'Depress' in con:\n",
        "        return 'Depression'\n",
        "    if 'Anxiety' in con:\n",
        "        return 'Anxiety'\n",
        "    if 'ADHD' in con:\n",
        "        return 'ADHD'\n",
        "    if 'Pain' in con:\n",
        "        return 'Pain'\n",
        "    if 'Insomnia' in con:\n",
        "        return 'Insomnia'\n",
        "    if 'Smok' in con:\n",
        "        return 'Smoking Cessation'\n",
        "    if 'Panic' in con:\n",
        "        return 'Panic Disorder'\n",
        "    if 'Sedation' in con:\n",
        "        return 'Sedation'\n",
        "    else: return con"
      ],
      "metadata": {
        "id": "bXwrJZOoJaST"
      },
      "execution_count": 12,
      "outputs": []
    },
    {
      "cell_type": "code",
      "source": [
        "cleaned_condition = []\n",
        "for i in range(len(data['condition'])):\n",
        "    cleaned_condition.append(clean_condition(str(data['condition'][i])))"
      ],
      "metadata": {
        "id": "q1rghaxSHaXh"
      },
      "execution_count": 13,
      "outputs": []
    },
    {
      "cell_type": "code",
      "source": [
        "data['clean_condition'] = cleaned_condition"
      ],
      "metadata": {
        "id": "s_FnyvwcNbKH"
      },
      "execution_count": 14,
      "outputs": []
    },
    {
      "cell_type": "code",
      "source": [
        "condition_name = data.groupby('clean_condition').count().sort_values(by='drugName',ascending=False).head(29)['drugName']\n",
        "condition_name"
      ],
      "metadata": {
        "colab": {
          "base_uri": "https://localhost:8080/"
        },
        "id": "Dc_4dPBWNfhw",
        "outputId": "fb4d6ebb-f118-43fb-d8f9-14430b7bb8ed"
      },
      "execution_count": 15,
      "outputs": [
        {
          "output_type": "execute_result",
          "data": {
            "text/plain": [
              "clean_condition\n",
              "Depression                          11351\n",
              "Anxiety                              4672\n",
              "Insomnia                             1288\n",
              "Panic Disorder                        593\n",
              "Obsessive Compulsive Disorder         311\n",
              "Smoking Cessation                     308\n",
              "Fibromyalgia                          284\n",
              "Pain                                  275\n",
              "Post Traumatic Stress Disorder        191\n",
              "nan                                   181\n",
              "Bipolar Disorder                      139\n",
              "ADHD                                  131\n",
              "Sedation                              126\n",
              "Sexual Dysfunction, SSRI Induced       87\n",
              "Premenstrual Dysphoric Disorder        77\n",
              "Obesity                                37\n",
              "Diabetic Peripheral Neuropathy         37\n",
              "Osteoarthritis                         33\n",
              "Bulimia                                31\n",
              "Hot Flashes                            26\n",
              "Viibryd (vilazodone)                   25\n",
              "Wellbutrin XL (bupropion)              22\n",
              "Trintellix (vortioxetine)              22\n",
              "Headache                               20\n",
              "Seasonal Affective Disorder            16\n",
              "Wellbutrin (bupropion)                 16\n",
              "Peripheral Neuropathy                  14\n",
              "Remeron (mirtazapine)                  13\n",
              "Postmenopausal Symptoms                11\n",
              "Name: drugName, dtype: int64"
            ]
          },
          "metadata": {},
          "execution_count": 15
        }
      ]
    },
    {
      "cell_type": "code",
      "source": [
        "condition_name = condition_name.drop(['Viibryd (vilazodone)', 'Wellbutrin XL (bupropion)', 'Trintellix (vortioxetine)', \n",
        "                    'Wellbutrin (bupropion)', 'Remeron (mirtazapine)', 'nan'])\n",
        "len(condition_name)"
      ],
      "metadata": {
        "colab": {
          "base_uri": "https://localhost:8080/"
        },
        "id": "vH_y2N9zQ5No",
        "outputId": "c2bec854-8cf3-4205-e67e-ebc62dada446"
      },
      "execution_count": 16,
      "outputs": [
        {
          "output_type": "execute_result",
          "data": {
            "text/plain": [
              "23"
            ]
          },
          "metadata": {},
          "execution_count": 16
        }
      ]
    },
    {
      "cell_type": "code",
      "source": [
        "condition_list=list(condition_name.index)"
      ],
      "metadata": {
        "id": "lxSM7Z3CRZDO"
      },
      "execution_count": 17,
      "outputs": []
    },
    {
      "cell_type": "code",
      "source": [
        "data_new = data.loc[data['clean_condition'].isin(condition_list)]"
      ],
      "metadata": {
        "id": "dGBAQLphVWfb"
      },
      "execution_count": 18,
      "outputs": []
    },
    {
      "cell_type": "code",
      "source": [
        "data_new"
      ],
      "metadata": {
        "colab": {
          "base_uri": "https://localhost:8080/",
          "height": 641
        },
        "id": "AuP0qMvKVdKV",
        "outputId": "b7d3626e-0eb4-48ee-f592-6758c27cb7af"
      },
      "execution_count": 19,
      "outputs": [
        {
          "output_type": "execute_result",
          "data": {
            "text/plain": [
              "         drugName               date                     condition  \\\n",
              "0         lexapro      April 4, 2022                    Depression   \n",
              "1         lexapro      April 3, 2022  Generalized Anxiety Disorder   \n",
              "2         lexapro     March 21, 2022                       Anxiety   \n",
              "3         lexapro     March 17, 2022                       Anxiety   \n",
              "4         lexapro     March 16, 2022  Generalized Anxiety Disorder   \n",
              "...           ...                ...                           ...   \n",
              "20418  wellbutrin  November 12, 2009                    Depression   \n",
              "20419  wellbutrin   November 7, 2009                    Depression   \n",
              "20420  wellbutrin   November 1, 2009                    Depression   \n",
              "20421  wellbutrin   October 27, 2009                          ADHD   \n",
              "20422  wellbutrin   October 26, 2009                    Depression   \n",
              "\n",
              "                                                  review  rating  usefulCount  \\\n",
              "0      “I have previously been on Celexa, Wellbutrin ...    10.0            0   \n",
              "1      “I said I would come back in a few weeks. It’s...     NaN            3   \n",
              "2      “Lexapro has been extremely helpful and change...    10.0            2   \n",
              "3      “I have been taking Lexapro for about 8 months...    10.0            1   \n",
              "4      “I begin taking this drug 10 years ago when I ...    10.0           18   \n",
              "...                                                  ...     ...          ...   \n",
              "20418  “I have suffered from depression for about 2 y...     9.0           48   \n",
              "20419  “I have been taking this medicine for over a w...    10.0           80   \n",
              "20420  “Wellbutrin made me a bit dizzy when I first b...     9.0           35   \n",
              "20421  “I have ADHD as well as epilepsy. I have taken...     1.0           24   \n",
              "20422  “I suffer from depression. This drug not only ...    10.0          148   \n",
              "\n",
              "      clean_condition  \n",
              "0          Depression  \n",
              "1             Anxiety  \n",
              "2             Anxiety  \n",
              "3             Anxiety  \n",
              "4             Anxiety  \n",
              "...               ...  \n",
              "20418      Depression  \n",
              "20419      Depression  \n",
              "20420      Depression  \n",
              "20421            ADHD  \n",
              "20422      Depression  \n",
              "\n",
              "[20058 rows x 7 columns]"
            ],
            "text/html": [
              "\n",
              "  <div id=\"df-459f780f-3494-4cfb-a54d-7cd1bdcf2a8d\">\n",
              "    <div class=\"colab-df-container\">\n",
              "      <div>\n",
              "<style scoped>\n",
              "    .dataframe tbody tr th:only-of-type {\n",
              "        vertical-align: middle;\n",
              "    }\n",
              "\n",
              "    .dataframe tbody tr th {\n",
              "        vertical-align: top;\n",
              "    }\n",
              "\n",
              "    .dataframe thead th {\n",
              "        text-align: right;\n",
              "    }\n",
              "</style>\n",
              "<table border=\"1\" class=\"dataframe\">\n",
              "  <thead>\n",
              "    <tr style=\"text-align: right;\">\n",
              "      <th></th>\n",
              "      <th>drugName</th>\n",
              "      <th>date</th>\n",
              "      <th>condition</th>\n",
              "      <th>review</th>\n",
              "      <th>rating</th>\n",
              "      <th>usefulCount</th>\n",
              "      <th>clean_condition</th>\n",
              "    </tr>\n",
              "  </thead>\n",
              "  <tbody>\n",
              "    <tr>\n",
              "      <th>0</th>\n",
              "      <td>lexapro</td>\n",
              "      <td>April 4, 2022</td>\n",
              "      <td>Depression</td>\n",
              "      <td>“I have previously been on Celexa, Wellbutrin ...</td>\n",
              "      <td>10.0</td>\n",
              "      <td>0</td>\n",
              "      <td>Depression</td>\n",
              "    </tr>\n",
              "    <tr>\n",
              "      <th>1</th>\n",
              "      <td>lexapro</td>\n",
              "      <td>April 3, 2022</td>\n",
              "      <td>Generalized Anxiety Disorder</td>\n",
              "      <td>“I said I would come back in a few weeks. It’s...</td>\n",
              "      <td>NaN</td>\n",
              "      <td>3</td>\n",
              "      <td>Anxiety</td>\n",
              "    </tr>\n",
              "    <tr>\n",
              "      <th>2</th>\n",
              "      <td>lexapro</td>\n",
              "      <td>March 21, 2022</td>\n",
              "      <td>Anxiety</td>\n",
              "      <td>“Lexapro has been extremely helpful and change...</td>\n",
              "      <td>10.0</td>\n",
              "      <td>2</td>\n",
              "      <td>Anxiety</td>\n",
              "    </tr>\n",
              "    <tr>\n",
              "      <th>3</th>\n",
              "      <td>lexapro</td>\n",
              "      <td>March 17, 2022</td>\n",
              "      <td>Anxiety</td>\n",
              "      <td>“I have been taking Lexapro for about 8 months...</td>\n",
              "      <td>10.0</td>\n",
              "      <td>1</td>\n",
              "      <td>Anxiety</td>\n",
              "    </tr>\n",
              "    <tr>\n",
              "      <th>4</th>\n",
              "      <td>lexapro</td>\n",
              "      <td>March 16, 2022</td>\n",
              "      <td>Generalized Anxiety Disorder</td>\n",
              "      <td>“I begin taking this drug 10 years ago when I ...</td>\n",
              "      <td>10.0</td>\n",
              "      <td>18</td>\n",
              "      <td>Anxiety</td>\n",
              "    </tr>\n",
              "    <tr>\n",
              "      <th>...</th>\n",
              "      <td>...</td>\n",
              "      <td>...</td>\n",
              "      <td>...</td>\n",
              "      <td>...</td>\n",
              "      <td>...</td>\n",
              "      <td>...</td>\n",
              "      <td>...</td>\n",
              "    </tr>\n",
              "    <tr>\n",
              "      <th>20418</th>\n",
              "      <td>wellbutrin</td>\n",
              "      <td>November 12, 2009</td>\n",
              "      <td>Depression</td>\n",
              "      <td>“I have suffered from depression for about 2 y...</td>\n",
              "      <td>9.0</td>\n",
              "      <td>48</td>\n",
              "      <td>Depression</td>\n",
              "    </tr>\n",
              "    <tr>\n",
              "      <th>20419</th>\n",
              "      <td>wellbutrin</td>\n",
              "      <td>November 7, 2009</td>\n",
              "      <td>Depression</td>\n",
              "      <td>“I have been taking this medicine for over a w...</td>\n",
              "      <td>10.0</td>\n",
              "      <td>80</td>\n",
              "      <td>Depression</td>\n",
              "    </tr>\n",
              "    <tr>\n",
              "      <th>20420</th>\n",
              "      <td>wellbutrin</td>\n",
              "      <td>November 1, 2009</td>\n",
              "      <td>Depression</td>\n",
              "      <td>“Wellbutrin made me a bit dizzy when I first b...</td>\n",
              "      <td>9.0</td>\n",
              "      <td>35</td>\n",
              "      <td>Depression</td>\n",
              "    </tr>\n",
              "    <tr>\n",
              "      <th>20421</th>\n",
              "      <td>wellbutrin</td>\n",
              "      <td>October 27, 2009</td>\n",
              "      <td>ADHD</td>\n",
              "      <td>“I have ADHD as well as epilepsy. I have taken...</td>\n",
              "      <td>1.0</td>\n",
              "      <td>24</td>\n",
              "      <td>ADHD</td>\n",
              "    </tr>\n",
              "    <tr>\n",
              "      <th>20422</th>\n",
              "      <td>wellbutrin</td>\n",
              "      <td>October 26, 2009</td>\n",
              "      <td>Depression</td>\n",
              "      <td>“I suffer from depression. This drug not only ...</td>\n",
              "      <td>10.0</td>\n",
              "      <td>148</td>\n",
              "      <td>Depression</td>\n",
              "    </tr>\n",
              "  </tbody>\n",
              "</table>\n",
              "<p>20058 rows × 7 columns</p>\n",
              "</div>\n",
              "      <button class=\"colab-df-convert\" onclick=\"convertToInteractive('df-459f780f-3494-4cfb-a54d-7cd1bdcf2a8d')\"\n",
              "              title=\"Convert this dataframe to an interactive table.\"\n",
              "              style=\"display:none;\">\n",
              "        \n",
              "  <svg xmlns=\"http://www.w3.org/2000/svg\" height=\"24px\"viewBox=\"0 0 24 24\"\n",
              "       width=\"24px\">\n",
              "    <path d=\"M0 0h24v24H0V0z\" fill=\"none\"/>\n",
              "    <path d=\"M18.56 5.44l.94 2.06.94-2.06 2.06-.94-2.06-.94-.94-2.06-.94 2.06-2.06.94zm-11 1L8.5 8.5l.94-2.06 2.06-.94-2.06-.94L8.5 2.5l-.94 2.06-2.06.94zm10 10l.94 2.06.94-2.06 2.06-.94-2.06-.94-.94-2.06-.94 2.06-2.06.94z\"/><path d=\"M17.41 7.96l-1.37-1.37c-.4-.4-.92-.59-1.43-.59-.52 0-1.04.2-1.43.59L10.3 9.45l-7.72 7.72c-.78.78-.78 2.05 0 2.83L4 21.41c.39.39.9.59 1.41.59.51 0 1.02-.2 1.41-.59l7.78-7.78 2.81-2.81c.8-.78.8-2.07 0-2.86zM5.41 20L4 18.59l7.72-7.72 1.47 1.35L5.41 20z\"/>\n",
              "  </svg>\n",
              "      </button>\n",
              "      \n",
              "  <style>\n",
              "    .colab-df-container {\n",
              "      display:flex;\n",
              "      flex-wrap:wrap;\n",
              "      gap: 12px;\n",
              "    }\n",
              "\n",
              "    .colab-df-convert {\n",
              "      background-color: #E8F0FE;\n",
              "      border: none;\n",
              "      border-radius: 50%;\n",
              "      cursor: pointer;\n",
              "      display: none;\n",
              "      fill: #1967D2;\n",
              "      height: 32px;\n",
              "      padding: 0 0 0 0;\n",
              "      width: 32px;\n",
              "    }\n",
              "\n",
              "    .colab-df-convert:hover {\n",
              "      background-color: #E2EBFA;\n",
              "      box-shadow: 0px 1px 2px rgba(60, 64, 67, 0.3), 0px 1px 3px 1px rgba(60, 64, 67, 0.15);\n",
              "      fill: #174EA6;\n",
              "    }\n",
              "\n",
              "    [theme=dark] .colab-df-convert {\n",
              "      background-color: #3B4455;\n",
              "      fill: #D2E3FC;\n",
              "    }\n",
              "\n",
              "    [theme=dark] .colab-df-convert:hover {\n",
              "      background-color: #434B5C;\n",
              "      box-shadow: 0px 1px 3px 1px rgba(0, 0, 0, 0.15);\n",
              "      filter: drop-shadow(0px 1px 2px rgba(0, 0, 0, 0.3));\n",
              "      fill: #FFFFFF;\n",
              "    }\n",
              "  </style>\n",
              "\n",
              "      <script>\n",
              "        const buttonEl =\n",
              "          document.querySelector('#df-459f780f-3494-4cfb-a54d-7cd1bdcf2a8d button.colab-df-convert');\n",
              "        buttonEl.style.display =\n",
              "          google.colab.kernel.accessAllowed ? 'block' : 'none';\n",
              "\n",
              "        async function convertToInteractive(key) {\n",
              "          const element = document.querySelector('#df-459f780f-3494-4cfb-a54d-7cd1bdcf2a8d');\n",
              "          const dataTable =\n",
              "            await google.colab.kernel.invokeFunction('convertToInteractive',\n",
              "                                                     [key], {});\n",
              "          if (!dataTable) return;\n",
              "\n",
              "          const docLinkHtml = 'Like what you see? Visit the ' +\n",
              "            '<a target=\"_blank\" href=https://colab.research.google.com/notebooks/data_table.ipynb>data table notebook</a>'\n",
              "            + ' to learn more about interactive tables.';\n",
              "          element.innerHTML = '';\n",
              "          dataTable['output_type'] = 'display_data';\n",
              "          await google.colab.output.renderOutput(dataTable, element);\n",
              "          const docLink = document.createElement('div');\n",
              "          docLink.innerHTML = docLinkHtml;\n",
              "          element.appendChild(docLink);\n",
              "        }\n",
              "      </script>\n",
              "    </div>\n",
              "  </div>\n",
              "  "
            ]
          },
          "metadata": {},
          "execution_count": 19
        }
      ]
    },
    {
      "cell_type": "code",
      "source": [
        "# check for Missing Values\n",
        "data_new.isnull().sum()"
      ],
      "metadata": {
        "colab": {
          "base_uri": "https://localhost:8080/"
        },
        "id": "RpLX1omIPgb_",
        "outputId": "b34f5dd7-4511-4aba-b626-b4bf972d81ab"
      },
      "execution_count": 20,
      "outputs": [
        {
          "output_type": "execute_result",
          "data": {
            "text/plain": [
              "drugName              0\n",
              "date                  0\n",
              "condition             0\n",
              "review                0\n",
              "rating             1244\n",
              "usefulCount           0\n",
              "clean_condition       0\n",
              "dtype: int64"
            ]
          },
          "metadata": {},
          "execution_count": 20
        }
      ]
    },
    {
      "cell_type": "code",
      "source": [
        "data_new = data_new.dropna()\n",
        "data_new.isnull().sum().sum()"
      ],
      "metadata": {
        "colab": {
          "base_uri": "https://localhost:8080/"
        },
        "id": "lzWk1cTUoP7A",
        "outputId": "e5e4d1f2-7fbb-452b-dbc4-4e98b78aa830"
      },
      "execution_count": 21,
      "outputs": [
        {
          "output_type": "execute_result",
          "data": {
            "text/plain": [
              "0"
            ]
          },
          "metadata": {},
          "execution_count": 21
        }
      ]
    },
    {
      "cell_type": "code",
      "source": [
        "data_new.shape"
      ],
      "metadata": {
        "colab": {
          "base_uri": "https://localhost:8080/"
        },
        "id": "imbX6x8JrU6j",
        "outputId": "66865b09-1a39-437e-cdbe-d144cb9a49b7"
      },
      "execution_count": 22,
      "outputs": [
        {
          "output_type": "execute_result",
          "data": {
            "text/plain": [
              "(18814, 7)"
            ]
          },
          "metadata": {},
          "execution_count": 22
        }
      ]
    },
    {
      "cell_type": "code",
      "source": [
        "print(\"The Shape of the Dataset :\", data_new.shape)"
      ],
      "metadata": {
        "colab": {
          "base_uri": "https://localhost:8080/"
        },
        "id": "tzobDwzPTRc9",
        "outputId": "03fcb40f-ac0b-462c-fa59-9e1ba312b6ac"
      },
      "execution_count": 47,
      "outputs": [
        {
          "output_type": "stream",
          "name": "stdout",
          "text": [
            "The Shape of the Dataset : (18814, 9)\n"
          ]
        }
      ]
    },
    {
      "cell_type": "markdown",
      "source": [
        "## EDA"
      ],
      "metadata": {
        "id": "tzVHftiopb1g"
      }
    },
    {
      "cell_type": "markdown",
      "source": [
        "### Distribution"
      ],
      "metadata": {
        "id": "4aziLqkLpmXu"
      }
    },
    {
      "cell_type": "code",
      "source": [
        "# check the Distribution of Rating and Useful Count\n",
        "\n",
        "plt.rcParams['figure.figsize'] = (15, 4)\n",
        "\n",
        "plt.subplot(1, 2, 1)\n",
        "sns.distplot(data_new['rating'], bins=10)\n",
        "\n",
        "plt.subplot(1, 2, 2)\n",
        "sns.distplot(data_new['usefulCount'])\n",
        "\n",
        "plt.suptitle('Distribution of Rating and Useful Count \\n ', fontsize = 20)\n",
        "plt.show()"
      ],
      "metadata": {
        "colab": {
          "base_uri": "https://localhost:8080/",
          "height": 400
        },
        "id": "ZLNdn4ZdoTCq",
        "outputId": "d4a52491-2827-44ab-e2d4-9fb0f588adfa"
      },
      "execution_count": 23,
      "outputs": [
        {
          "output_type": "stream",
          "name": "stderr",
          "text": [
            "/usr/local/lib/python3.7/dist-packages/seaborn/distributions.py:2619: FutureWarning: `distplot` is a deprecated function and will be removed in a future version. Please adapt your code to use either `displot` (a figure-level function with similar flexibility) or `histplot` (an axes-level function for histograms).\n",
            "  warnings.warn(msg, FutureWarning)\n",
            "/usr/local/lib/python3.7/dist-packages/seaborn/distributions.py:2619: FutureWarning: `distplot` is a deprecated function and will be removed in a future version. Please adapt your code to use either `displot` (a figure-level function with similar flexibility) or `histplot` (an axes-level function for histograms).\n",
            "  warnings.warn(msg, FutureWarning)\n"
          ]
        },
        {
          "output_type": "display_data",
          "data": {
            "text/plain": [
              "<Figure size 1080x288 with 2 Axes>"
            ],
            "image/png": "[encoded data removed]"
          },
          "metadata": {
            "needs_background": "light"
          }
        }
      ]
    },
    {
      "cell_type": "code",
      "source": [
        "# check the Highest Length Review\n",
        "data_new['len']  = data_new['review'].apply(len)\n",
        "print(\"Length of Longest Review\", data_new['len'].max())\n",
        "data_new['review'][data_new['len'] == data_new['len'].max()].iloc[0]"
      ],
      "metadata": {
        "colab": {
          "base_uri": "https://localhost:8080/",
          "height": 325
        },
        "id": "S3kgkuISPgen",
        "outputId": "013e62f8-0fea-4173-9f12-fc9927836185"
      },
      "execution_count": 24,
      "outputs": [
        {
          "output_type": "stream",
          "name": "stdout",
          "text": [
            "Length of Longest Review 6061\n"
          ]
        },
        {
          "output_type": "stream",
          "name": "stderr",
          "text": [
            "/usr/local/lib/python3.7/dist-packages/ipykernel_launcher.py:2: SettingWithCopyWarning: \n",
            "A value is trying to be set on a copy of a slice from a DataFrame.\n",
            "Try using .loc[row_indexer,col_indexer] = value instead\n",
            "\n",
            "See the caveats in the documentation: https://pandas.pydata.org/pandas-docs/stable/user_guide/indexing.html#returning-a-view-versus-a-copy\n",
            "  \n"
          ]
        },
        {
          "output_type": "execute_result",
          "data": {
            "text/plain": [
              "'“I don’t find a lot of positive stories about antidepressants, or I find stories where people are taking the antidepressant the wrong way.\\n\\nI wanted to share my experience.  A positive one.\\n\\nI’ve had generalized anxiety disorder, SEVERE OCD, and panic disorder for as long as I can remember.  My first memory of having an episode was when I was 4 years old at my kindergarten interview.  I feel as though I was born with the illnesses mentioned above, right from the womb.  When I was a child I was extremely anxious, had bad separation anxiety from my parents and had extreme OCD, I was just a kid and thought that the way I was feeling is how all kids felt, I didn’t realize that I was different.  This went on, and got even worse in middle school.  I began developing trichtilomania in middle school.  In high school I went from being a 90% above student, to failing every class within a couple of years.  I couldn’t leave the house.  My panic disorder and gad caused debilitating physical symptoms.  I would be shaking when I had to leave the house, I wouldn’t drink alcohol because I was afraid of vomiting, I was suffering so much, for my whole entire life with severe phobias, fears, and anxiety.  I prayed and prayed and prayed to God every night for it to go away.  I was a 16 year old living in a prison of her own mind.  It never went away.  Every single day was the worst day of my life, I would wake up and the thoughts just started,  I never had a break.  My life was exhausting.\\n\\nI am of east indian background and my parents didn’t understand mental illness well.  It is very taboo in my culture.  I went to tons of doctors and they told me it was just growing pains,  no doctor ever told me that maybe I should see a therapist.  I didn’t have any support.  When I was 22 I attempted suicide.  Luckily the attempt didn’t work and I was forced to go on medication.  I was livid, I was so against antidepressants, I was so so so scared, it felt unnatural. My general practitioner put me on Effexor, I took it for almost 8 weeks, it helped me to not want to kill myself, but It also made me gain tons of weight which made me depressed, and it make me hear voices.  One evening a voice told me to choke my mom, and I started freaking out and my parents drove me immediately to the hospital.  At the hospital I talked to a psych nurse who calmed me down, and got me an appointment with a psychiatrist the next day.  This appointment and this psychiatrist saved my life, and changed my entire life.\\n\\nI want to really mention that you should not be going to a General Practitioner for mental illness medication, you should ALWAYS…ALWAYS go to a psychiatrist no matter what.  If your GP is the only person you are seeing to help you manage your meds for ocd, anxiety, etc, that is the WRONG MOVE.  That is such a common mistake people are making, you NEED a psychiatrist in order to get the meds right, please do not just go to your regular doctor, you’ll be cheating yourself.\\n\\nI went to the psychiatrist appointment the next day.  It was the first time I had ever seen a psychiatrist.   I got into her room and we talked about everything, my childhood, my phobias, my ocd.  She then brought my parents into the room to explain the whole situation to them and the fact that I have a chemical imbalance in my brain and that I have been suffering for way too long.  My parents were so supportive.  The doctor told me I was on the wrong medication, that I never should have been placed on Effexor which is an SNRI, and that I should be on an SSRI considering my main problem is OCD and GAD.  We talked a lot about it and she told me she would like to place me on Prozac.  She said for me, because my neural pathways have been the same for 20 plus years, that I would need a higher dosage of Prozac especially for anxiety and OCD.   I see on this forum, that so many people are on 20mg, or 40mg for anxiety disorders.   You should be on 60mg at least, do not be afraid to go higher.  People that say Prozac or an SSRI didn’t really do anything for their anxiety or ocd is because they are only taking a 20mg dose,  That is not an OCD dose.  40-80mg for anxiety and OCD.   Please up your dose.   Use the medication, REALLY USE IT.  Do not be afraid!\\n\\nMy doctor started me on 40mg, eventually took me to 100mg, and then I went back to 80mg.  Yes the side effects are insane, I was nauseated, I couldn’t sleep, I was shaking, I had anxiety, but she prescribed me Ativan and said to use it until the Prozac kicked in.  That the Ativan would keep me comfortable until that happened.  Don’t try to be a hero, use your Ativan or your Xanax or whatever to stay as comfortable as possible.\\n\\nI could write so much more, but I’ll conclude with this.  4 months after being on 80mg of Prozac everyday, I woke up one day and I was cured.   Yes cured.  I had no OCD, I had no anxiety, I no longer had fears or phobias.   I was cured.   You have no idea how that day felt.  It was like the first day of my whole entire life.  I woke up being the real me, who is free spirited and isn’t afraid of anything!  I was finally free, I was no longer a prisoner.  I didn’t even have to go to therapy.  I just woke up one day a brand new person, from taking a high dose of Prozac every single day.\\n\\nDO NOT go off of the antidepressants.   Your ocd, your anxiety, depression etc will come back.  I WOULD never dream or even think to come off of my antidepressants,  I have an illness, that will return if I go off the medication, because I have a brain disorder.  OCD is a brain disorder.  Do not stop taking medication for your brain disorder, do not try to fix your brain disorder with just a 20mg or 40mg dose.  Own your medication, be on it for life.\\n\\nIt’s been 5 years since I have been cured.  If it wasn’t for Prozac, I would be dead.\\n\\n1)\\tYou need a psychiatrist\\n2)\\tDo not be afraid to take more than 40mg of Prozac to treat panic attacks etc,  I am on 80mg a day and my life is a ball.  It is so wonderful and so carefree.\\n3)\\tDo not stop the meds.  Be on the meds for life.”'"
            ],
            "application/vnd.google.colaboratory.intrinsic+json": {
              "type": "string"
            }
          },
          "metadata": {},
          "execution_count": 24
        }
      ]
    },
    {
      "cell_type": "markdown",
      "source": [
        "### Total number of Reviews posted each day"
      ],
      "metadata": {
        "id": "8eso2qzCpwCX"
      }
    },
    {
      "cell_type": "code",
      "source": [
        "data_new=data_new.sort_values(by='date')"
      ],
      "metadata": {
        "id": "BoUQ3x9isCIH"
      },
      "execution_count": 25,
      "outputs": []
    },
    {
      "cell_type": "code",
      "source": [
        "import pandas as pd\n",
        "import numpy as np\n",
        "import matplotlib.pyplot as plt\n",
        "import seaborn as sns\n",
        "from statsmodels.stats.proportion import proportions_chisquare\n",
        "from scipy.stats import chisquare\n",
        "import pickle\n",
        "from bs4 import BeautifulSoup\n",
        "from collections import defaultdict\n",
        "import requests\n",
        "from statsmodels.stats.multitest import fdrcorrection_twostage\n",
        "%matplotlib inline"
      ],
      "metadata": {
        "colab": {
          "base_uri": "https://localhost:8080/"
        },
        "id": "ruFKXukps8gV",
        "outputId": "c19e6f25-0fc6-47f2-8268-d15e0f437a0b"
      },
      "execution_count": 26,
      "outputs": [
        {
          "output_type": "stream",
          "name": "stderr",
          "text": [
            "/usr/local/lib/python3.7/dist-packages/statsmodels/tools/_testing.py:19: FutureWarning: pandas.util.testing is deprecated. Use the functions in the public API at pandas.testing instead.\n",
            "  import pandas.util.testing as tm\n"
          ]
        }
      ]
    },
    {
      "cell_type": "code",
      "source": [
        "data['date'] = pd.to_datetime(data['date'])\n",
        "data.groupby('date').size().plot(figsize=(12,4))\n",
        "plt.ylabel('Number of reviews')\n",
        "plt.title(\"Number of reviews posting against date\",fontsize=10)\n",
        "plt.savefig(\"num_reviews_date.png\")"
      ],
      "metadata": {
        "colab": {
          "base_uri": "https://localhost:8080/",
          "height": 283
        },
        "id": "KtmToamHpEah",
        "outputId": "4a7df2de-fa98-4114-c003-e885723d1cb4"
      },
      "execution_count": 27,
      "outputs": [
        {
          "output_type": "display_data",
          "data": {
            "text/plain": [
              "<Figure size 864x288 with 1 Axes>"
            ],
            "image/png": "[encoded data removed]"
          },
          "metadata": {
            "needs_background": "light"
          }
        }
      ]
    },
    {
      "cell_type": "markdown",
      "source": [
        "### Total number of Reviews posted each month"
      ],
      "metadata": {
        "id": "bJ3rxJjdtXAu"
      }
    },
    {
      "cell_type": "code",
      "source": [
        "data['month'] = data['date'].apply(lambda x: x.month)\n",
        "\n",
        "plt.figure(figsize=(12,6))\n",
        "plt.subplot(1, 2, 1)\n",
        "data.groupby('month').size().plot(kind='bar')\n",
        "plt.ylabel('Number of Reviews')\n",
        "\n",
        "plt.subplot(1, 2, 2)\n",
        "sns.violinplot(data=data,x='month',y='rating')"
      ],
      "metadata": {
        "colab": {
          "base_uri": "https://localhost:8080/",
          "height": 408
        },
        "id": "VuVWK3Bsp9qj",
        "outputId": "e8019fce-50c4-47e4-d477-bb6e6379b750"
      },
      "execution_count": 28,
      "outputs": [
        {
          "output_type": "execute_result",
          "data": {
            "text/plain": [
              "<matplotlib.axes._subplots.AxesSubplot at 0x7ff9be994750>"
            ]
          },
          "metadata": {},
          "execution_count": 28
        },
        {
          "output_type": "display_data",
          "data": {
            "text/plain": [
              "<Figure size 864x432 with 2 Axes>"
            ],
            "image/png": "[encoded data removed]"
          },
          "metadata": {
            "needs_background": "light"
          }
        }
      ]
    },
    {
      "cell_type": "markdown",
      "source": [
        "### Total number of Reviews for each condition"
      ],
      "metadata": {
        "id": "56f8AtbZuMiK"
      }
    },
    {
      "cell_type": "code",
      "source": [
        "data_new['date'] = pd.to_datetime(data_new['date'])\n",
        "data_new['month'] = data_new['date'].apply(lambda x: x.month)\n",
        "df_con_mon = pd.DataFrame(data_new.groupby(['clean_condition','month']).size()).reset_index()\n",
        "\n",
        "df_con_mon_pivot = df_con_mon.pivot_table(index='clean_condition',columns='month',values=0)\n",
        "\n",
        "fig = plt.figure(figsize=(15,5))\n",
        "df_con_mon_pivot.sum(1).sort_values(ascending=False).iloc[:50].plot(kind='bar')\n",
        "plt.title(\"Number of Reviews against each conditions/diseases\",fontsize=15)\n",
        "plt.tight_layout()\n",
        "fig.autofmt_xdate(bottom=0.2, rotation=30, ha='right')\n",
        "plt.xticks(fontsize=10)\n",
        "\n",
        "plt.savefig(\"num_reviews_each_condition.png\")"
      ],
      "metadata": {
        "colab": {
          "base_uri": "https://localhost:8080/",
          "height": 369
        },
        "id": "2a_qBhUZuKR5",
        "outputId": "b18b7dfc-f6d8-4516-ba27-4cbfdbaf7144"
      },
      "execution_count": 29,
      "outputs": [
        {
          "output_type": "display_data",
          "data": {
            "text/plain": [
              "<Figure size 1080x360 with 1 Axes>"
            ],
            "image/png": "[encoded data removed]"
          },
          "metadata": {
            "needs_background": "light"
          }
        }
      ]
    },
    {
      "cell_type": "code",
      "source": [
        "df_con_mon_pivot.sum(1).sort_values(ascending=False)"
      ],
      "metadata": {
        "colab": {
          "base_uri": "https://localhost:8080/"
        },
        "id": "5keGxslAyVAc",
        "outputId": "01be4c3e-d9ca-43c5-96e7-8765fcc12129"
      },
      "execution_count": 30,
      "outputs": [
        {
          "output_type": "execute_result",
          "data": {
            "text/plain": [
              "clean_condition\n",
              "Depression                          10607.0\n",
              "Anxiety                              4416.0\n",
              "Insomnia                             1216.0\n",
              "Panic Disorder                        556.0\n",
              "Obsessive Compulsive Disorder         291.0\n",
              "Smoking Cessation                     288.0\n",
              "Fibromyalgia                          263.0\n",
              "Pain                                  263.0\n",
              "Post Traumatic Stress Disorder        181.0\n",
              "Bipolar Disorder                      135.0\n",
              "ADHD                                  128.0\n",
              "Sedation                              115.0\n",
              "Sexual Dysfunction, SSRI Induced       80.0\n",
              "Premenstrual Dysphoric Disorder        71.0\n",
              "Diabetic Peripheral Neuropathy         35.0\n",
              "Osteoarthritis                         31.0\n",
              "Bulimia                                29.0\n",
              "Obesity                                26.0\n",
              "Hot Flashes                            25.0\n",
              "Headache                               19.0\n",
              "Seasonal Affective Disorder            16.0\n",
              "Peripheral Neuropathy                  14.0\n",
              "Postmenopausal Symptoms                 9.0\n",
              "dtype: float64"
            ]
          },
          "metadata": {},
          "execution_count": 30
        }
      ]
    },
    {
      "cell_type": "markdown",
      "source": [
        "### Total number of Reviews for each condition against each month"
      ],
      "metadata": {
        "id": "Nq1uZLTRycRW"
      }
    },
    {
      "cell_type": "code",
      "source": [
        "n = 50\n",
        "top_n_index = df_con_mon_pivot.sum(1).sort_values(ascending=False).iloc[:n].index\n",
        "tm_con_mon_pivot = df_con_mon_pivot.loc[top_n_index]\n",
        "tm_con_mon_pivot_per = tm_con_mon_pivot.div(tm_con_mon_pivot.sum(1), axis=0)\n",
        "tm_con_mon_pivot_per.plot.bar(stacked=True, figsize=(15,7))\n",
        "plt.legend(loc='upper left', bbox_to_anchor=(1, 1))\n",
        "plt.title(\"Percentage of Reviews in each month\")\n",
        "plt.tight_layout()\n",
        "plt.savefig(\"Per_Reviews_month.png\")"
      ],
      "metadata": {
        "colab": {
          "base_uri": "https://localhost:8080/",
          "height": 449
        },
        "id": "l8vJTY9GuOYH",
        "outputId": "301defc1-9862-4cd1-e8e4-b01208c99d47"
      },
      "execution_count": 31,
      "outputs": [
        {
          "output_type": "display_data",
          "data": {
            "text/plain": [
              "<Figure size 1080x504 with 1 Axes>"
            ],
            "image/png": "[encoded data removed]"
          },
          "metadata": {
            "needs_background": "light"
          }
        }
      ]
    },
    {
      "cell_type": "markdown",
      "source": [
        "### Number of reviews for the drugs for each condition"
      ],
      "metadata": {
        "id": "5EPBM6c3TXs7"
      }
    },
    {
      "cell_type": "code",
      "source": [
        "data_new[['clean_condition', 'drugName', 'usefulCount']].groupby(\n",
        "    ['drugName', 'clean_condition'])['usefulCount'].count().sort_values(ascending=False).head(20)"
      ],
      "metadata": {
        "colab": {
          "base_uri": "https://localhost:8080/"
        },
        "id": "p-FJFk1qTv3G",
        "outputId": "279bdc68-45a3-4e03-8be2-678a9d71edd1"
      },
      "execution_count": 32,
      "outputs": [
        {
          "output_type": "execute_result",
          "data": {
            "text/plain": [
              "drugName          clean_condition\n",
              "bupropion         Depression         1525\n",
              "lexapro           Anxiety            1293\n",
              "mtm/vortioxetine  Depression         1227\n",
              "trintellix        Depression          904\n",
              "trazodone         Insomnia            807\n",
              "mtm/vilazodone    Depression          742\n",
              "pristiq           Depression          720\n",
              "mirtazapine       Depression          718\n",
              "viibryd           Depression          714\n",
              "zoloft            Depression          693\n",
              "lexapro           Depression          633\n",
              "cymbalta          Depression          599\n",
              "wellbutrin        Depression          554\n",
              "prozac            Depression          475\n",
              "paxil             Anxiety             468\n",
              "mirtazapine       Anxiety             455\n",
              "celexa            Anxiety             416\n",
              "mirtazapine       Insomnia            409\n",
              "effexor           Depression          399\n",
              "cymbalta          Anxiety             369\n",
              "Name: usefulCount, dtype: int64"
            ]
          },
          "metadata": {},
          "execution_count": 32
        }
      ]
    },
    {
      "cell_type": "code",
      "source": [
        "# for depression\n",
        "print('Depression')\n",
        "print(data_new.loc[data_new['clean_condition']=='Depression'].groupby(\n",
        "    ['drugName'])['usefulCount'].count().sort_values(ascending=False).head(20))"
      ],
      "metadata": {
        "colab": {
          "base_uri": "https://localhost:8080/"
        },
        "id": "P2yiHysNWhR5",
        "outputId": "91338370-5f65-4f11-e753-602ee31a1c48"
      },
      "execution_count": 49,
      "outputs": [
        {
          "output_type": "stream",
          "name": "stdout",
          "text": [
            "Depression\n",
            "drugName\n",
            "bupropion           1525\n",
            "mtm/vortioxetine    1227\n",
            "trintellix           904\n",
            "mtm/vilazodone       742\n",
            "pristiq              720\n",
            "mirtazapine          718\n",
            "viibryd              714\n",
            "zoloft               693\n",
            "lexapro              633\n",
            "cymbalta             599\n",
            "wellbutrin           554\n",
            "prozac               475\n",
            "effexor              399\n",
            "celexa               344\n",
            "paxil                213\n",
            "trazodone            147\n",
            "Name: usefulCount, dtype: int64\n"
          ]
        }
      ]
    },
    {
      "cell_type": "code",
      "source": [
        "# for anxiety\n",
        "data_new.loc[data_new['clean_condition']=='Anxiety'].groupby(\n",
        "    ['drugName'])['usefulCount'].count().sort_values(ascending=False).head(20)"
      ],
      "metadata": {
        "colab": {
          "base_uri": "https://localhost:8080/"
        },
        "id": "dQltJ8CbW1s9",
        "outputId": "3d1db5cd-7cea-40e2-887b-9e4db9d3952f"
      },
      "execution_count": 34,
      "outputs": [
        {
          "output_type": "execute_result",
          "data": {
            "text/plain": [
              "drugName\n",
              "lexapro           1293\n",
              "paxil              468\n",
              "mirtazapine        455\n",
              "celexa             416\n",
              "cymbalta           369\n",
              "prozac             354\n",
              "effexor            348\n",
              "zoloft             311\n",
              "bupropion          159\n",
              "trazodone          115\n",
              "pristiq             64\n",
              "mtm/vilazodone      57\n",
              "wellbutrin           4\n",
              "viibryd              3\n",
              "Name: usefulCount, dtype: int64"
            ]
          },
          "metadata": {},
          "execution_count": 34
        }
      ]
    },
    {
      "cell_type": "code",
      "source": [
        "# for insomnia\n",
        "data_new.loc[data_new['clean_condition']=='Insomnia'].groupby(\n",
        "    ['drugName'])['usefulCount'].count().sort_values(ascending=False).head(20)"
      ],
      "metadata": {
        "colab": {
          "base_uri": "https://localhost:8080/"
        },
        "id": "4H39qhyIXI-6",
        "outputId": "2069699a-e8ea-44db-ebce-fb9fb58f7443"
      },
      "execution_count": 35,
      "outputs": [
        {
          "output_type": "execute_result",
          "data": {
            "text/plain": [
              "drugName\n",
              "trazodone      807\n",
              "mirtazapine    409\n",
              "Name: usefulCount, dtype: int64"
            ]
          },
          "metadata": {},
          "execution_count": 35
        }
      ]
    },
    {
      "cell_type": "code",
      "source": [
        "# for panic disorder\n",
        "data_new.loc[data_new['clean_condition']=='Panic Disorder'].groupby(\n",
        "    ['drugName'])['usefulCount'].count().sort_values(ascending=False).head(20)"
      ],
      "metadata": {
        "colab": {
          "base_uri": "https://localhost:8080/"
        },
        "id": "3Oq3xjH8XPmG",
        "outputId": "345101f3-8789-4c28-f65c-5e8989fa784c"
      },
      "execution_count": 36,
      "outputs": [
        {
          "output_type": "execute_result",
          "data": {
            "text/plain": [
              "drugName\n",
              "zoloft        320\n",
              "paxil          85\n",
              "prozac         70\n",
              "effexor        41\n",
              "bupropion      21\n",
              "celexa         10\n",
              "pristiq         6\n",
              "wellbutrin      3\n",
              "Name: usefulCount, dtype: int64"
            ]
          },
          "metadata": {},
          "execution_count": 36
        }
      ]
    },
    {
      "cell_type": "markdown",
      "source": [
        "Adding up the useful counts, we get a sense of how many people are viewing the reviews for the drug for each condition."
      ],
      "metadata": {
        "id": "gqWoMWxBWQra"
      }
    },
    {
      "cell_type": "code",
      "source": [
        "data_new[['clean_condition', 'drugName','usefulCount']].groupby(\n",
        "    ['drugName', 'clean_condition'])['usefulCount'].sum().sort_values(ascending=False).head(20)"
      ],
      "metadata": {
        "colab": {
          "base_uri": "https://localhost:8080/"
        },
        "id": "waOB7x26Tdcs",
        "outputId": "91d59cbe-c00f-47bf-8d02-d93715e68380"
      },
      "execution_count": 37,
      "outputs": [
        {
          "output_type": "execute_result",
          "data": {
            "text/plain": [
              "drugName          clean_condition\n",
              "lexapro           Anxiety            73753\n",
              "bupropion         Depression         71322\n",
              "zoloft            Depression         45097\n",
              "mtm/vortioxetine  Depression         44278\n",
              "trintellix        Depression         40733\n",
              "wellbutrin        Depression         36699\n",
              "trazodone         Insomnia           35774\n",
              "celexa            Anxiety            34852\n",
              "prozac            Depression         32217\n",
              "lexapro           Depression         32002\n",
              "prozac            Anxiety            31454\n",
              "pristiq           Depression         27084\n",
              "viibryd           Depression         26799\n",
              "cymbalta          Depression         26695\n",
              "mtm/vilazodone    Depression         26336\n",
              "paxil             Anxiety            25719\n",
              "mirtazapine       Depression         25396\n",
              "cymbalta          Anxiety            22089\n",
              "mirtazapine       Anxiety            19927\n",
              "effexor           Anxiety            18950\n",
              "Name: usefulCount, dtype: int64"
            ]
          },
          "metadata": {},
          "execution_count": 37
        }
      ]
    },
    {
      "cell_type": "code",
      "source": [
        "# for depression\n",
        "data_new.loc[data_new['clean_condition']=='Depression'].groupby(\n",
        "    ['drugName'])['usefulCount'].sum().sort_values(ascending=False).head(20)"
      ],
      "metadata": {
        "colab": {
          "base_uri": "https://localhost:8080/"
        },
        "id": "c6nHHFAXWzG1",
        "outputId": "ff6a5733-6025-43a6-89bc-2464b9fe16f1"
      },
      "execution_count": 38,
      "outputs": [
        {
          "output_type": "execute_result",
          "data": {
            "text/plain": [
              "drugName\n",
              "bupropion           71322\n",
              "zoloft              45097\n",
              "mtm/vortioxetine    44278\n",
              "trintellix          40733\n",
              "wellbutrin          36699\n",
              "prozac              32217\n",
              "lexapro             32002\n",
              "pristiq             27084\n",
              "viibryd             26799\n",
              "cymbalta            26695\n",
              "mtm/vilazodone      26336\n",
              "mirtazapine         25396\n",
              "celexa              18080\n",
              "effexor             14614\n",
              "paxil                8353\n",
              "trazodone            8310\n",
              "Name: usefulCount, dtype: int64"
            ]
          },
          "metadata": {},
          "execution_count": 38
        }
      ]
    },
    {
      "cell_type": "code",
      "source": [
        "# for anxiety\n",
        "data_new.loc[data_new['clean_condition']=='Anxiety'].groupby(\n",
        "    ['drugName'])['usefulCount'].sum().sort_values(ascending=False).head(20)"
      ],
      "metadata": {
        "colab": {
          "base_uri": "https://localhost:8080/"
        },
        "id": "yH7O44LCXD3V",
        "outputId": "150b16df-6842-40ac-fbc1-6b6c9751ecbb"
      },
      "execution_count": 39,
      "outputs": [
        {
          "output_type": "execute_result",
          "data": {
            "text/plain": [
              "drugName\n",
              "lexapro           73753\n",
              "celexa            34852\n",
              "prozac            31454\n",
              "paxil             25719\n",
              "cymbalta          22089\n",
              "mirtazapine       19927\n",
              "effexor           18950\n",
              "zoloft            15971\n",
              "bupropion          7040\n",
              "trazodone          7027\n",
              "pristiq            1612\n",
              "mtm/vilazodone      944\n",
              "wellbutrin          439\n",
              "viibryd             139\n",
              "Name: usefulCount, dtype: int64"
            ]
          },
          "metadata": {},
          "execution_count": 39
        }
      ]
    },
    {
      "cell_type": "code",
      "source": [
        "# for insomnia\n",
        "data_new.loc[data_new['clean_condition']=='Insomnia'].groupby(\n",
        "    ['drugName'])['usefulCount'].sum().sort_values(ascending=False).head(20)"
      ],
      "metadata": {
        "colab": {
          "base_uri": "https://localhost:8080/"
        },
        "id": "vFRFPrrsXYUk",
        "outputId": "fa145e59-61f1-4300-e344-be87ab722da0"
      },
      "execution_count": 40,
      "outputs": [
        {
          "output_type": "execute_result",
          "data": {
            "text/plain": [
              "drugName\n",
              "trazodone      35774\n",
              "mirtazapine    16036\n",
              "Name: usefulCount, dtype: int64"
            ]
          },
          "metadata": {},
          "execution_count": 40
        }
      ]
    },
    {
      "cell_type": "code",
      "source": [
        "# for panic disorder\n",
        "data_new.loc[data_new['clean_condition']=='Panic Disorder'].groupby(\n",
        "    ['drugName'])['usefulCount'].sum().sort_values(ascending=False).head(20)"
      ],
      "metadata": {
        "colab": {
          "base_uri": "https://localhost:8080/"
        },
        "id": "WH0aoHWVXZ6E",
        "outputId": "4f73718e-2d6f-482a-f551-48dd5a1c9223"
      },
      "execution_count": 41,
      "outputs": [
        {
          "output_type": "execute_result",
          "data": {
            "text/plain": [
              "drugName\n",
              "zoloft        16405\n",
              "prozac         3787\n",
              "paxil          2824\n",
              "effexor        1246\n",
              "bupropion       864\n",
              "celexa          506\n",
              "wellbutrin      300\n",
              "pristiq          69\n",
              "Name: usefulCount, dtype: int64"
            ]
          },
          "metadata": {},
          "execution_count": 41
        }
      ]
    },
    {
      "cell_type": "markdown",
      "source": [
        "### Average ratings of Drugs"
      ],
      "metadata": {
        "id": "TJzF7pU0zvdN"
      }
    },
    {
      "cell_type": "code",
      "source": [
        "data_new[['clean_condition', 'drugName','rating']].groupby(\n",
        "    ['drugName', 'clean_condition'])['rating'].mean().sort_values(ascending=False).head(20)"
      ],
      "metadata": {
        "colab": {
          "base_uri": "https://localhost:8080/"
        },
        "id": "uDW5OzR7OwHC",
        "outputId": "ae2bfdb7-f926-48b6-f220-56255e477548"
      },
      "execution_count": 42,
      "outputs": [
        {
          "output_type": "execute_result",
          "data": {
            "text/plain": [
              "drugName    clean_condition                 \n",
              "pristiq     Postmenopausal Symptoms             10.000000\n",
              "celexa      Premenstrual Dysphoric Disorder      9.500000\n",
              "paxil       Hot Flashes                          9.250000\n",
              "lexapro     Obsessive Compulsive Disorder        9.100000\n",
              "effexor     Premenstrual Dysphoric Disorder      9.000000\n",
              "lexapro     Premenstrual Dysphoric Disorder      9.000000\n",
              "pristiq     ADHD                                 9.000000\n",
              "            Obesity                              9.000000\n",
              "effexor     Obsessive Compulsive Disorder        9.000000\n",
              "prozac      Hot Flashes                          9.000000\n",
              "pristiq     Post Traumatic Stress Disorder       8.857143\n",
              "effexor     Hot Flashes                          8.833333\n",
              "bupropion   Seasonal Affective Disorder          8.812500\n",
              "celexa      Obsessive Compulsive Disorder        8.750000\n",
              "wellbutrin  Sexual Dysfunction, SSRI Induced     8.666667\n",
              "bupropion   Premenstrual Dysphoric Disorder      8.666667\n",
              "lexapro     Fibromyalgia                         8.444444\n",
              "prozac      Bulimia                              8.071429\n",
              "            Fibromyalgia                         8.000000\n",
              "            Obsessive Compulsive Disorder        7.978947\n",
              "Name: rating, dtype: float64"
            ]
          },
          "metadata": {},
          "execution_count": 42
        }
      ]
    },
    {
      "cell_type": "code",
      "source": [
        "# for depression\n",
        "data_new.loc[data_new['clean_condition']=='Depression'].groupby(\n",
        "    ['drugName'])['rating'].mean().sort_values(ascending=False).head(20)"
      ],
      "metadata": {
        "colab": {
          "base_uri": "https://localhost:8080/"
        },
        "id": "qZNv0ev8X94A",
        "outputId": "6b054799-001a-49fa-8893-4ea0a6385244"
      },
      "execution_count": 43,
      "outputs": [
        {
          "output_type": "execute_result",
          "data": {
            "text/plain": [
              "drugName\n",
              "celexa              7.098837\n",
              "lexapro             7.034755\n",
              "bupropion           6.967869\n",
              "prozac              6.936842\n",
              "zoloft              6.904762\n",
              "wellbutrin          6.826715\n",
              "mirtazapine         6.745125\n",
              "trazodone           6.734694\n",
              "pristiq             6.695833\n",
              "paxil               6.539906\n",
              "effexor             6.451128\n",
              "cymbalta            6.160267\n",
              "mtm/vortioxetine    5.975550\n",
              "trintellix          5.951327\n",
              "viibryd             5.834734\n",
              "mtm/vilazodone      5.781671\n",
              "Name: rating, dtype: float64"
            ]
          },
          "metadata": {},
          "execution_count": 43
        }
      ]
    },
    {
      "cell_type": "code",
      "source": [
        "# for anxiety\n",
        "data_new.loc[data_new['clean_condition']=='Anxiety'].groupby(\n",
        "    ['drugName'])['rating'].mean().sort_values(ascending=False).head(20)"
      ],
      "metadata": {
        "colab": {
          "base_uri": "https://localhost:8080/"
        },
        "id": "rZxxfQbOMvh2",
        "outputId": "98d7add6-d2c7-4e9e-e3fe-5b6870eaab6c"
      },
      "execution_count": 44,
      "outputs": [
        {
          "output_type": "execute_result",
          "data": {
            "text/plain": [
              "drugName\n",
              "lexapro           7.737046\n",
              "celexa            7.411058\n",
              "zoloft            7.344051\n",
              "prozac            7.285311\n",
              "pristiq           7.281250\n",
              "paxil             7.151709\n",
              "wellbutrin        7.000000\n",
              "effexor           6.977011\n",
              "trazodone         6.730435\n",
              "viibryd           6.666667\n",
              "mirtazapine       6.567033\n",
              "cymbalta          6.390244\n",
              "mtm/vilazodone    6.052632\n",
              "bupropion         5.823899\n",
              "Name: rating, dtype: float64"
            ]
          },
          "metadata": {},
          "execution_count": 44
        }
      ]
    },
    {
      "cell_type": "code",
      "source": [
        "# for insomnia\n",
        "data_new.loc[data_new['clean_condition']=='Insomnia'].groupby(\n",
        "    ['drugName'])['rating'].mean().sort_values(ascending=False).head(20)"
      ],
      "metadata": {
        "colab": {
          "base_uri": "https://localhost:8080/"
        },
        "id": "mAwG70WnYSw7",
        "outputId": "acd9a833-f20e-4dc4-a0c2-fdddc143d490"
      },
      "execution_count": 45,
      "outputs": [
        {
          "output_type": "execute_result",
          "data": {
            "text/plain": [
              "drugName\n",
              "mirtazapine    7.002445\n",
              "trazodone      6.235440\n",
              "Name: rating, dtype: float64"
            ]
          },
          "metadata": {},
          "execution_count": 45
        }
      ]
    },
    {
      "cell_type": "code",
      "source": [
        "# for panic disorder\n",
        "data_new.loc[data_new['clean_condition']=='Panic Disorder'].groupby(\n",
        "    ['drugName'])['rating'].mean().sort_values(ascending=False).head(20)"
      ],
      "metadata": {
        "colab": {
          "base_uri": "https://localhost:8080/"
        },
        "id": "tsbRPnUNYU-i",
        "outputId": "d2da4f43-3d93-488b-e3c0-2686ddaa417d"
      },
      "execution_count": 46,
      "outputs": [
        {
          "output_type": "execute_result",
          "data": {
            "text/plain": [
              "drugName\n",
              "celexa        7.900000\n",
              "pristiq       7.833333\n",
              "bupropion     7.666667\n",
              "zoloft        7.509375\n",
              "paxil         7.376471\n",
              "prozac        6.742857\n",
              "effexor       6.536585\n",
              "wellbutrin    5.333333\n",
              "Name: rating, dtype: float64"
            ]
          },
          "metadata": {},
          "execution_count": 46
        }
      ]
    }
  ]
}