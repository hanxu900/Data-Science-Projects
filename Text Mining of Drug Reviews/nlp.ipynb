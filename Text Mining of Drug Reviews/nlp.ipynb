{
  "nbformat": 4,
  "nbformat_minor": 0,
  "metadata": {
    "colab": {
      "name": "Untitled17.ipynb",
      "provenance": [],
      "toc_visible": true
    },
    "kernelspec": {
      "name": "python3",
      "display_name": "Python 3"
    },
    "language_info": {
      "name": "python"
    }
  },
  "cells": [
    {
      "cell_type": "markdown",
      "source": [
        "# Sentiment Analysis"
      ],
      "metadata": {
        "id": "6cVrzlKdV_uU"
      }
    },
    {
      "cell_type": "code",
      "source": [
        "import numpy as np\n",
        "import pandas as pd\n",
        "import string "
      ],
      "metadata": {
        "id": "-c9gymxDZBpF"
      },
      "execution_count": null,
      "outputs": []
    },
    {
      "cell_type": "code",
      "source": [
        "data = pd.read_excel('drugs.xlsx')\n",
        "print(\"The Shape of the Dataset :\", data.shape)"
      ],
      "metadata": {
        "colab": {
          "base_uri": "https://localhost:8080/"
        },
        "id": "LVpHaywSZMhu",
        "outputId": "4970899c-b0bc-4f98-93ee-625f3e15385a"
      },
      "execution_count": null,
      "outputs": [
        {
          "output_type": "stream",
          "name": "stdout",
          "text": [
            "The Shape of the Dataset : (20423, 9)\n"
          ]
        }
      ]
    },
    {
      "cell_type": "code",
      "source": [
        "data.head()"
      ],
      "metadata": {
        "colab": {
          "base_uri": "https://localhost:8080/",
          "height": 649
        },
        "id": "diTQqur3jii6",
        "outputId": "b65345c9-de32-436e-e15a-e3584ec4786c"
      },
      "execution_count": null,
      "outputs": [
        {
          "output_type": "execute_result",
          "data": {
            "text/plain": [
              "                                      class drugName        username  \\\n",
              "0  Selective serotonin re-uptake inhibitors  lexapro           Vnica   \n",
              "1  Selective serotonin re-uptake inhibitors  lexapro        leelou92   \n",
              "2  Selective serotonin re-uptake inhibitors  lexapro     19 year old   \n",
              "3  Selective serotonin re-uptake inhibitors  lexapro         Whitney   \n",
              "4  Selective serotonin re-uptake inhibitors  lexapro  Tried and True   \n",
              "\n",
              "                       duration            date                     condition  \\\n",
              "0  Taken for 6 months to 1 year   April 4, 2022                    Depression   \n",
              "1                           NaN   April 3, 2022  Generalized Anxiety Disorder   \n",
              "2        Taken for 1 to 2 years  March 21, 2022                       Anxiety   \n",
              "3  Taken for 6 months to 1 year  March 17, 2022                       Anxiety   \n",
              "4    Taken for 10 years or more  March 16, 2022  Generalized Anxiety Disorder   \n",
              "\n",
              "                                              review  rating  usefulCount  \n",
              "0  “I have previously been on Celexa, Wellbutrin ...    10.0            0  \n",
              "1  “I said I would come back in a few weeks. It’s...     NaN            3  \n",
              "2  “Lexapro has been extremely helpful and change...    10.0            2  \n",
              "3  “I have been taking Lexapro for about 8 months...    10.0            1  \n",
              "4  “I begin taking this drug 10 years ago when I ...    10.0           18  "
            ],
            "text/html": [
              "\n",
              "  <div id=\"df-bd2e0534-f50c-47c1-9fcd-dfd86a703cbe\">\n",
              "    <div class=\"colab-df-container\">\n",
              "      <div>\n",
              "<style scoped>\n",
              "    .dataframe tbody tr th:only-of-type {\n",
              "        vertical-align: middle;\n",
              "    }\n",
              "\n",
              "    .dataframe tbody tr th {\n",
              "        vertical-align: top;\n",
              "    }\n",
              "\n",
              "    .dataframe thead th {\n",
              "        text-align: right;\n",
              "    }\n",
              "</style>\n",
              "<table border=\"1\" class=\"dataframe\">\n",
              "  <thead>\n",
              "    <tr style=\"text-align: right;\">\n",
              "      <th></th>\n",
              "      <th>class</th>\n",
              "      <th>drugName</th>\n",
              "      <th>username</th>\n",
              "      <th>duration</th>\n",
              "      <th>date</th>\n",
              "      <th>condition</th>\n",
              "      <th>review</th>\n",
              "      <th>rating</th>\n",
              "      <th>usefulCount</th>\n",
              "    </tr>\n",
              "  </thead>\n",
              "  <tbody>\n",
              "    <tr>\n",
              "      <th>0</th>\n",
              "      <td>Selective serotonin re-uptake inhibitors</td>\n",
              "      <td>lexapro</td>\n",
              "      <td>Vnica</td>\n",
              "      <td>Taken for 6 months to 1 year</td>\n",
              "      <td>April 4, 2022</td>\n",
              "      <td>Depression</td>\n",
              "      <td>“I have previously been on Celexa, Wellbutrin ...</td>\n",
              "      <td>10.0</td>\n",
              "      <td>0</td>\n",
              "    </tr>\n",
              "    <tr>\n",
              "      <th>1</th>\n",
              "      <td>Selective serotonin re-uptake inhibitors</td>\n",
              "      <td>lexapro</td>\n",
              "      <td>leelou92</td>\n",
              "      <td>NaN</td>\n",
              "      <td>April 3, 2022</td>\n",
              "      <td>Generalized Anxiety Disorder</td>\n",
              "      <td>“I said I would come back in a few weeks. It’s...</td>\n",
              "      <td>NaN</td>\n",
              "      <td>3</td>\n",
              "    </tr>\n",
              "    <tr>\n",
              "      <th>2</th>\n",
              "      <td>Selective serotonin re-uptake inhibitors</td>\n",
              "      <td>lexapro</td>\n",
              "      <td>19 year old</td>\n",
              "      <td>Taken for 1 to 2 years</td>\n",
              "      <td>March 21, 2022</td>\n",
              "      <td>Anxiety</td>\n",
              "      <td>“Lexapro has been extremely helpful and change...</td>\n",
              "      <td>10.0</td>\n",
              "      <td>2</td>\n",
              "    </tr>\n",
              "    <tr>\n",
              "      <th>3</th>\n",
              "      <td>Selective serotonin re-uptake inhibitors</td>\n",
              "      <td>lexapro</td>\n",
              "      <td>Whitney</td>\n",
              "      <td>Taken for 6 months to 1 year</td>\n",
              "      <td>March 17, 2022</td>\n",
              "      <td>Anxiety</td>\n",
              "      <td>“I have been taking Lexapro for about 8 months...</td>\n",
              "      <td>10.0</td>\n",
              "      <td>1</td>\n",
              "    </tr>\n",
              "    <tr>\n",
              "      <th>4</th>\n",
              "      <td>Selective serotonin re-uptake inhibitors</td>\n",
              "      <td>lexapro</td>\n",
              "      <td>Tried and True</td>\n",
              "      <td>Taken for 10 years or more</td>\n",
              "      <td>March 16, 2022</td>\n",
              "      <td>Generalized Anxiety Disorder</td>\n",
              "      <td>“I begin taking this drug 10 years ago when I ...</td>\n",
              "      <td>10.0</td>\n",
              "      <td>18</td>\n",
              "    </tr>\n",
              "  </tbody>\n",
              "</table>\n",
              "</div>\n",
              "      <button class=\"colab-df-convert\" onclick=\"convertToInteractive('df-bd2e0534-f50c-47c1-9fcd-dfd86a703cbe')\"\n",
              "              title=\"Convert this dataframe to an interactive table.\"\n",
              "              style=\"display:none;\">\n",
              "        \n",
              "  <svg xmlns=\"http://www.w3.org/2000/svg\" height=\"24px\"viewBox=\"0 0 24 24\"\n",
              "       width=\"24px\">\n",
              "    <path d=\"M0 0h24v24H0V0z\" fill=\"none\"/>\n",
              "    <path d=\"M18.56 5.44l.94 2.06.94-2.06 2.06-.94-2.06-.94-.94-2.06-.94 2.06-2.06.94zm-11 1L8.5 8.5l.94-2.06 2.06-.94-2.06-.94L8.5 2.5l-.94 2.06-2.06.94zm10 10l.94 2.06.94-2.06 2.06-.94-2.06-.94-.94-2.06-.94 2.06-2.06.94z\"/><path d=\"M17.41 7.96l-1.37-1.37c-.4-.4-.92-.59-1.43-.59-.52 0-1.04.2-1.43.59L10.3 9.45l-7.72 7.72c-.78.78-.78 2.05 0 2.83L4 21.41c.39.39.9.59 1.41.59.51 0 1.02-.2 1.41-.59l7.78-7.78 2.81-2.81c.8-.78.8-2.07 0-2.86zM5.41 20L4 18.59l7.72-7.72 1.47 1.35L5.41 20z\"/>\n",
              "  </svg>\n",
              "      </button>\n",
              "      \n",
              "  <style>\n",
              "    .colab-df-container {\n",
              "      display:flex;\n",
              "      flex-wrap:wrap;\n",
              "      gap: 12px;\n",
              "    }\n",
              "\n",
              "    .colab-df-convert {\n",
              "      background-color: #E8F0FE;\n",
              "      border: none;\n",
              "      border-radius: 50%;\n",
              "      cursor: pointer;\n",
              "      display: none;\n",
              "      fill: #1967D2;\n",
              "      height: 32px;\n",
              "      padding: 0 0 0 0;\n",
              "      width: 32px;\n",
              "    }\n",
              "\n",
              "    .colab-df-convert:hover {\n",
              "      background-color: #E2EBFA;\n",
              "      box-shadow: 0px 1px 2px rgba(60, 64, 67, 0.3), 0px 1px 3px 1px rgba(60, 64, 67, 0.15);\n",
              "      fill: #174EA6;\n",
              "    }\n",
              "\n",
              "    [theme=dark] .colab-df-convert {\n",
              "      background-color: #3B4455;\n",
              "      fill: #D2E3FC;\n",
              "    }\n",
              "\n",
              "    [theme=dark] .colab-df-convert:hover {\n",
              "      background-color: #434B5C;\n",
              "      box-shadow: 0px 1px 3px 1px rgba(0, 0, 0, 0.15);\n",
              "      filter: drop-shadow(0px 1px 2px rgba(0, 0, 0, 0.3));\n",
              "      fill: #FFFFFF;\n",
              "    }\n",
              "  </style>\n",
              "\n",
              "      <script>\n",
              "        const buttonEl =\n",
              "          document.querySelector('#df-bd2e0534-f50c-47c1-9fcd-dfd86a703cbe button.colab-df-convert');\n",
              "        buttonEl.style.display =\n",
              "          google.colab.kernel.accessAllowed ? 'block' : 'none';\n",
              "\n",
              "        async function convertToInteractive(key) {\n",
              "          const element = document.querySelector('#df-bd2e0534-f50c-47c1-9fcd-dfd86a703cbe');\n",
              "          const dataTable =\n",
              "            await google.colab.kernel.invokeFunction('convertToInteractive',\n",
              "                                                     [key], {});\n",
              "          if (!dataTable) return;\n",
              "\n",
              "          const docLinkHtml = 'Like what you see? Visit the ' +\n",
              "            '<a target=\"_blank\" href=https://colab.research.google.com/notebooks/data_table.ipynb>data table notebook</a>'\n",
              "            + ' to learn more about interactive tables.';\n",
              "          element.innerHTML = '';\n",
              "          dataTable['output_type'] = 'display_data';\n",
              "          await google.colab.output.renderOutput(dataTable, element);\n",
              "          const docLink = document.createElement('div');\n",
              "          docLink.innerHTML = docLinkHtml;\n",
              "          element.appendChild(docLink);\n",
              "        }\n",
              "      </script>\n",
              "    </div>\n",
              "  </div>\n",
              "  "
            ]
          },
          "metadata": {},
          "execution_count": 4
        }
      ]
    },
    {
      "cell_type": "code",
      "source": [
        "# check for Missing Values\n",
        "data.isnull().sum()"
      ],
      "metadata": {
        "colab": {
          "base_uri": "https://localhost:8080/"
        },
        "id": "TWwBr0RWeUc1",
        "outputId": "67422696-cab2-4202-b468-fa06c6690880"
      },
      "execution_count": null,
      "outputs": [
        {
          "output_type": "execute_result",
          "data": {
            "text/plain": [
              "class             0\n",
              "drugName          0\n",
              "username          0\n",
              "duration       8950\n",
              "date              0\n",
              "condition       181\n",
              "review            0\n",
              "rating         1265\n",
              "usefulCount       0\n",
              "dtype: int64"
            ]
          },
          "metadata": {},
          "execution_count": 61
        }
      ]
    },
    {
      "cell_type": "code",
      "source": [
        "# delete all the records where Condition or rating is Missing\n",
        "data = data.dropna()\n",
        "\n",
        "# lets check the Missing values now\n",
        "data.isnull().sum().sum()"
      ],
      "metadata": {
        "colab": {
          "base_uri": "https://localhost:8080/"
        },
        "id": "4FQ11QWPe3wf",
        "outputId": "83843c65-c2ae-4bac-a79e-41cc94bbc4e3"
      },
      "execution_count": null,
      "outputs": [
        {
          "output_type": "execute_result",
          "data": {
            "text/plain": [
              "0"
            ]
          },
          "metadata": {},
          "execution_count": 95
        }
      ]
    },
    {
      "cell_type": "code",
      "source": [
        "data.shape"
      ],
      "metadata": {
        "colab": {
          "base_uri": "https://localhost:8080/"
        },
        "id": "QcZQDieqe_Dr",
        "outputId": "e051c3c3-aece-45a3-b749-11d21ac7cab0"
      },
      "execution_count": null,
      "outputs": [
        {
          "output_type": "execute_result",
          "data": {
            "text/plain": [
              "(10683, 9)"
            ]
          },
          "metadata": {},
          "execution_count": 63
        }
      ]
    },
    {
      "cell_type": "markdown",
      "source": [
        "## Data Preprocessing"
      ],
      "metadata": {
        "id": "utxM-MuTWonG"
      }
    },
    {
      "cell_type": "markdown",
      "source": [
        "#### Removing punctuations"
      ],
      "metadata": {
        "id": "NC7NtNo0WwsD"
      }
    },
    {
      "cell_type": "code",
      "source": [
        "# First remove Punctuations from the Reviews\n",
        "def punctuation_removal(messy_str):\n",
        "    clean_list = [char for char in messy_str if char not in string.punctuation]\n",
        "    clean_str = ''.join(clean_list)\n",
        "    return clean_str\n",
        "\n",
        "data['review'] = data['review'].apply(punctuation_removal)"
      ],
      "metadata": {
        "id": "HbMTF_l7V_8u"
      },
      "execution_count": null,
      "outputs": []
    },
    {
      "cell_type": "code",
      "source": [
        "## remove special symbol\n",
        "def rm_sym(df):\n",
        "    df['review'] = df['review'].str.replace(\"&#039;\",'\\'')\n",
        "    df['review'].head()\n",
        "    return df\n",
        "data = rm_sym(data)"
      ],
      "metadata": {
        "id": "YThfhpAalwCD"
      },
      "execution_count": null,
      "outputs": []
    },
    {
      "cell_type": "markdown",
      "source": [
        "#### Tokenization"
      ],
      "metadata": {
        "id": "vwNRPZDEX0yX"
      }
    },
    {
      "cell_type": "code",
      "source": [
        "import re\n",
        "def tokenize(text):\n",
        "    split=re.split(\"\\W+\",text)\n",
        "    split=split[1:-1]\n",
        "    return split\n",
        "data['review_list']=data['review'].apply(lambda x: tokenize(x.lower()))\n",
        "data['review_list'].head()"
      ],
      "metadata": {
        "colab": {
          "base_uri": "https://localhost:8080/"
        },
        "id": "ZN6j7Lcb2TzZ",
        "outputId": "7e604246-f2bb-4310-9918-d1ecf835f9a5"
      },
      "execution_count": null,
      "outputs": [
        {
          "output_type": "execute_result",
          "data": {
            "text/plain": [
              "0    [i, have, previously, been, on, celexa, wellbu...\n",
              "2    [lexapro, has, been, extremely, helpful, and, ...\n",
              "3    [i, have, been, taking, lexapro, for, about, 8...\n",
              "4    [i, begin, taking, this, drug, 10, years, ago,...\n",
              "5    [i, have, suffered, with, anxiety, for, most, ...\n",
              "Name: review_list, dtype: object"
            ]
          },
          "metadata": {},
          "execution_count": 98
        }
      ]
    },
    {
      "cell_type": "markdown",
      "source": [
        "#### Removing stopwords"
      ],
      "metadata": {
        "id": "GwCyaZGgYzNI"
      }
    },
    {
      "cell_type": "code",
      "source": [
        "import nltk\n",
        "nltk.download('stopwords')"
      ],
      "metadata": {
        "colab": {
          "base_uri": "https://localhost:8080/"
        },
        "id": "Ic6qbMSb4nPE",
        "outputId": "c4db1785-d1b6-4548-cedd-932619394588"
      },
      "execution_count": null,
      "outputs": [
        {
          "output_type": "stream",
          "name": "stdout",
          "text": [
            "[nltk_data] Downloading package stopwords to /root/nltk_data...\n",
            "[nltk_data]   Package stopwords is already up-to-date!\n"
          ]
        },
        {
          "output_type": "execute_result",
          "data": {
            "text/plain": [
              "True"
            ]
          },
          "metadata": {},
          "execution_count": 99
        }
      ]
    },
    {
      "cell_type": "code",
      "source": [
        "import re\n",
        "def drop_numbers(list_text):\n",
        "    list_text_new = []\n",
        "    for i in list_text:\n",
        "        if not re.search('\\d', i):\n",
        "            list_text_new.append(i)\n",
        "    return ' '.join(list_text_new)\n",
        "data['review']=data['review_list'].apply(lambda x: drop_numbers(x))"
      ],
      "metadata": {
        "id": "exeg7yr-kBjU"
      },
      "execution_count": null,
      "outputs": []
    },
    {
      "cell_type": "code",
      "source": [
        "data['review_list']=data['review'].apply(lambda x: tokenize(x))"
      ],
      "metadata": {
        "id": "VaBgXHhHkZwy"
      },
      "execution_count": null,
      "outputs": []
    },
    {
      "cell_type": "code",
      "source": [
        "import nltk\n",
        "stopword = nltk.corpus.stopwords.words('english')\n",
        "def remove_stopwords(text):\n",
        "    text=[word for word in text if word not in stopword]\n",
        "    return text\n",
        "\n",
        "data['review_list'] = data['review_list'].apply(lambda x: remove_stopwords(x))\n",
        "data['review_list'].head()"
      ],
      "metadata": {
        "colab": {
          "base_uri": "https://localhost:8080/"
        },
        "id": "UuBeJkAcY2Ft",
        "outputId": "bc3b74b7-2c42-4eda-8d25-9e84fcd54b97"
      },
      "execution_count": null,
      "outputs": [
        {
          "output_type": "execute_result",
          "data": {
            "text/plain": [
              "0    [previously, celexa, wellbutrin, effexor, cele...\n",
              "2    [extremely, helpful, changed, life, experience...\n",
              "3    [taking, lexapro, months, side, effects, exper...\n",
              "4    [begin, taking, drug, years, ago, thought, ser...\n",
              "5    [suffered, anxiety, life, stopped, driving, go...\n",
              "Name: review_list, dtype: object"
            ]
          },
          "metadata": {},
          "execution_count": 102
        }
      ]
    },
    {
      "cell_type": "markdown",
      "source": [
        "#### Stemming"
      ],
      "metadata": {
        "id": "Zx9SzX-WX2zp"
      }
    },
    {
      "cell_type": "code",
      "source": [
        "from nltk.stem.snowball import SnowballStemmer\n",
        "\n",
        "def stem_tokens(tokens, stemmer):\n",
        "    stemmed = []\n",
        "    for item in tokens:\n",
        "        stemmed.append(stemmer.stem(item))\n",
        "    return stemmed\n",
        "\n",
        "stemmer = SnowballStemmer('english')\n",
        "data['review_list'] = data['review_list'].apply(lambda x: stem_tokens(x, stemmer=stemmer))\n",
        "data['review_list'].head()"
      ],
      "metadata": {
        "colab": {
          "base_uri": "https://localhost:8080/"
        },
        "id": "olKqUXteYnYy",
        "outputId": "9cfd2f8d-dbae-4b84-96d9-b5616778ecb8"
      },
      "execution_count": null,
      "outputs": [
        {
          "output_type": "execute_result",
          "data": {
            "text/plain": [
              "0    [previous, celexa, wellbutrin, effexor, celexa...\n",
              "2    [extrem, help, chang, life, experi, anxieti, d...\n",
              "3    [take, lexapro, month, side, effect, experienc...\n",
              "4    [begin, take, drug, year, ago, thought, seriou...\n",
              "5    [suffer, anxieti, life, stop, drive, go, place...\n",
              "Name: review_list, dtype: object"
            ]
          },
          "metadata": {},
          "execution_count": 109
        }
      ]
    },
    {
      "cell_type": "markdown",
      "source": [
        "## Vectorization"
      ],
      "metadata": {
        "id": "u8ru0aBnWdfT"
      }
    },
    {
      "cell_type": "markdown",
      "source": [
        "In this part, I use three methods to convert text to vectors: TF-IDF, Wrod2Vec and BERT.\n",
        "\n",
        "I will integrate these three methods with various machine learning models to see which combination gives the best result."
      ],
      "metadata": {
        "id": "4fHDkqeTf8Ht"
      }
    },
    {
      "cell_type": "code",
      "source": [
        "# transform the ratings to three categories: positive, neutral and negative\n",
        "def transform_rating(df):\n",
        "    df['sentiment'] = ''\n",
        "    df.loc[df['rating'] >= 7,'sentiment'] = 'positive'\n",
        "    df.loc[df['rating'] <= 4,'sentiment'] = 'negative'\n",
        "    df.loc[(df['rating'] > 4) & (df['rating'] < 7),'sentiment'] = 'neutral'\n",
        "    return df\n",
        "data = transform_rating(data)"
      ],
      "metadata": {
        "id": "J3yamiOo6pmT"
      },
      "execution_count": null,
      "outputs": []
    },
    {
      "cell_type": "code",
      "source": [
        "import seaborn as sns\n",
        "sns.boxplot(x=data['sentiment'],y=data['rating'])"
      ],
      "metadata": {
        "colab": {
          "base_uri": "https://localhost:8080/",
          "height": 297
        },
        "id": "N6vRMvHN77iK",
        "outputId": "5619f7b3-8a7d-4620-9220-556092c27a3d"
      },
      "execution_count": null,
      "outputs": [
        {
          "output_type": "execute_result",
          "data": {
            "text/plain": [
              "<matplotlib.axes._subplots.AxesSubplot at 0x7f56eeb6b550>"
            ]
          },
          "metadata": {},
          "execution_count": 74
        },
        {
          "output_type": "display_data",
          "data": {
            "text/plain": [
              "<Figure size 432x288 with 1 Axes>"
            ],
            "image/png": "[encoded data removed]"
          },
          "metadata": {
            "needs_background": "light"
          }
        }
      ]
    },
    {
      "cell_type": "code",
      "source": [
        "# split the dataset\n",
        "from sklearn.datasets import make_classification\n",
        "from sklearn.model_selection import train_test_split\n",
        "train, test = train_test_split(data, test_size=0.25)"
      ],
      "metadata": {
        "id": "dt7vkDxx6MGe"
      },
      "execution_count": null,
      "outputs": []
    },
    {
      "cell_type": "markdown",
      "source": [
        "### Bag-of-Words"
      ],
      "metadata": {
        "id": "GcZjfMQOLkLF"
      }
    },
    {
      "cell_type": "markdown",
      "source": [
        "Bag-of-Words\n",
        "\n",
        "The Bag-of-Words model is simple: it builds a vocabulary from a corpus of documents and counts how many times the words appear in each document. To put it another way, each word in the vocabulary becomes a feature and a document is represented by a vector with the same length of the vocabulary (a “bag of words”)."
      ],
      "metadata": {
        "id": "c2V33iX3LqyS"
      }
    },
    {
      "cell_type": "code",
      "source": [
        "## only need to remove punctuation and stemize\n",
        "stemmer = SnowballStemmer('english')\n",
        "\n",
        "def stem_tokens(tokens, stemmer):\n",
        "    stemmed = []\n",
        "    for item in tokens:\n",
        "        stemmed.append(stemmer.stem(item))\n",
        "    return stemmed\n",
        "\n",
        "def tokenize(text):\n",
        "    text = \"\".join([ch for ch in text if ch not in string.punctuation])\n",
        "    tokens = nltk.word_tokenize(text)\n",
        "    stems = stem_tokens(tokens, stemmer)\n",
        "    return stems"
      ],
      "metadata": {
        "id": "lsYHat70L6bs"
      },
      "execution_count": null,
      "outputs": []
    },
    {
      "cell_type": "code",
      "source": [
        "## Generate table of words with their counts\n",
        "## TfidfVectorizer transform train and test\n",
        "from sklearn.feature_extraction.text import TfidfVectorizer, CountVectorizer\n",
        "from sklearn import feature_extraction"
      ],
      "metadata": {
        "id": "OzZIQBfgL9gN"
      },
      "execution_count": null,
      "outputs": []
    },
    {
      "cell_type": "code",
      "source": [
        "import nltk\n",
        "nltk.download('punkt')"
      ],
      "metadata": {
        "colab": {
          "base_uri": "https://localhost:8080/"
        },
        "id": "WQE-QdpIL_Qm",
        "outputId": "9445bc3d-ef06-4298-c7ea-67580429ba53"
      },
      "execution_count": null,
      "outputs": [
        {
          "output_type": "stream",
          "name": "stdout",
          "text": [
            "[nltk_data] Downloading package punkt to /root/nltk_data...\n",
            "[nltk_data]   Package punkt is already up-to-date!\n"
          ]
        },
        {
          "output_type": "execute_result",
          "data": {
            "text/plain": [
              "True"
            ]
          },
          "metadata": {},
          "execution_count": 78
        }
      ]
    },
    {
      "cell_type": "code",
      "source": [
        "## Generate table of words with their counts\n",
        "## BoW transform train and test\n",
        "con_vec_bow = CountVectorizer(max_features = 10000, stop_words='english',tokenizer=tokenize, ngram_range = (1, 3))\n",
        "X_train_bow = con_vec_bow.fit_transform(train['review'])\n",
        "y_train = train['sentiment']\n",
        "X_test_bow = con_vec_bow.transform(test['review'])\n",
        "y_test = test['sentiment']\n",
        "\n",
        "print(X_train_bow.shape)\n",
        "print(X_test_bow.shape)"
      ],
      "metadata": {
        "colab": {
          "base_uri": "https://localhost:8080/"
        },
        "id": "f5f3Cd1DMA0n",
        "outputId": "580bde4d-78f6-4d22-93b0-8e6dd232e305"
      },
      "execution_count": null,
      "outputs": [
        {
          "output_type": "stream",
          "name": "stderr",
          "text": [
            "/usr/local/lib/python3.7/dist-packages/sklearn/feature_extraction/text.py:401: UserWarning: Your stop_words may be inconsistent with your preprocessing. Tokenizing the stop words generated tokens ['abov', 'afterward', 'alon', 'alreadi', 'alway', 'ani', 'anoth', 'anyon', 'anyth', 'anywher', 'becam', 'becaus', 'becom', 'befor', 'besid', 'cri', 'describ', 'dure', 'els', 'elsewher', 'empti', 'everi', 'everyon', 'everyth', 'everywher', 'fifti', 'forti', 'henc', 'hereaft', 'herebi', 'howev', 'hundr', 'inde', 'mani', 'meanwhil', 'moreov', 'nobodi', 'noon', 'noth', 'nowher', 'onc', 'onli', 'otherwis', 'ourselv', 'perhap', 'pleas', 'sever', 'sinc', 'sincer', 'sixti', 'someon', 'someth', 'sometim', 'somewher', 'themselv', 'thenc', 'thereaft', 'therebi', 'therefor', 'togeth', 'twelv', 'twenti', 'veri', 'whatev', 'whenc', 'whenev', 'wherea', 'whereaft', 'wherebi', 'wherev', 'whi', 'yourselv'] not in stop_words.\n",
            "  % sorted(inconsistent)\n"
          ]
        },
        {
          "output_type": "stream",
          "name": "stdout",
          "text": [
            "(8012, 10000)\n",
            "(2671, 10000)\n"
          ]
        }
      ]
    },
    {
      "cell_type": "code",
      "source": [
        "from sklearn.linear_model import LogisticRegression\n",
        "\n",
        "clf_bow = LogisticRegression(C=30.0, class_weight='balanced', solver='sag', \n",
        "                             multi_class='multinomial', n_jobs=-1, random_state=40, \n",
        "                             verbose=1, max_iter = 1000)\n",
        "clf_bow.fit(X_train_bow, y_train)\n",
        "y_predicted_bow = clf_bow.predict(X_test_bow)"
      ],
      "metadata": {
        "colab": {
          "base_uri": "https://localhost:8080/"
        },
        "id": "sD61Z7ZTMG7V",
        "outputId": "68205a5f-857f-4412-bb2e-d331f2d375c9"
      },
      "execution_count": null,
      "outputs": [
        {
          "output_type": "stream",
          "name": "stderr",
          "text": [
            "[Parallel(n_jobs=-1)]: Using backend ThreadingBackend with 2 concurrent workers.\n"
          ]
        },
        {
          "output_type": "stream",
          "name": "stdout",
          "text": [
            "max_iter reached after 14 seconds\n"
          ]
        },
        {
          "output_type": "stream",
          "name": "stderr",
          "text": [
            "/usr/local/lib/python3.7/dist-packages/sklearn/linear_model/_sag.py:354: ConvergenceWarning: The max_iter was reached which means the coef_ did not converge\n",
            "  ConvergenceWarning,\n",
            "[Parallel(n_jobs=-1)]: Done   1 out of   1 | elapsed:   14.7s finished\n"
          ]
        }
      ]
    },
    {
      "cell_type": "code",
      "source": [
        "from sklearn.metrics import accuracy_score, f1_score, precision_score, recall_score, classification_report\n",
        "\n",
        "def get_metrics(y_test, y_predicted):  \n",
        "    # true positives / (true positives+false positives)\n",
        "    precision = precision_score(y_test, y_predicted, pos_label=None,\n",
        "                                    average='weighted')             \n",
        "    # true positives / (true positives + false negatives)\n",
        "    recall = recall_score(y_test, y_predicted, pos_label=None,\n",
        "                              average='weighted')\n",
        "    \n",
        "    # harmonic mean of precision and recall\n",
        "    f1 = f1_score(y_test, y_predicted, pos_label=None, average='weighted')\n",
        "    \n",
        "    # true positives + true negatives/ total\n",
        "    accuracy = accuracy_score(y_test, y_predicted)\n",
        "    return accuracy, precision, recall, f1"
      ],
      "metadata": {
        "id": "V_fwXvfSML-G"
      },
      "execution_count": null,
      "outputs": []
    },
    {
      "cell_type": "code",
      "source": [
        "accuracy_bow, precision_bow, recall_bow, f1_bow= get_metrics(y_test, y_predicted_bow)\n",
        "print(\"accuracy = %.3f, precision = %.3f, recall = %.3f, f1 = %.3f\" % (accuracy_bow, precision_bow, \n",
        "                                                                       recall_bow, f1_bow))"
      ],
      "metadata": {
        "colab": {
          "base_uri": "https://localhost:8080/"
        },
        "id": "0J2XkJa6MMcf",
        "outputId": "de3085d7-cd50-42ef-b163-035b580329cb"
      },
      "execution_count": null,
      "outputs": [
        {
          "output_type": "stream",
          "name": "stdout",
          "text": [
            "accuracy = 0.775, precision = 0.770, recall = 0.775, f1 = 0.772\n"
          ]
        }
      ]
    },
    {
      "cell_type": "code",
      "source": [
        "predicted = y_predicted_bow\n",
        "predicted_prob = clf_bow.predict_proba(X_test_bow)"
      ],
      "metadata": {
        "id": "6eSXBHOxeBeY"
      },
      "execution_count": null,
      "outputs": []
    },
    {
      "cell_type": "code",
      "source": [
        "import matplotlib.pyplot as plt\n",
        "import seaborn as sns\n",
        "from sklearn import metrics\n",
        "\n",
        "classes = np.unique(y_test)\n",
        "y_test_array = pd.get_dummies(y_test, drop_first=False).values\n",
        "    \n",
        "## Accuracy, Precision, Recall\n",
        "accuracy = metrics.accuracy_score(y_test, predicted)\n",
        "auc = metrics.roc_auc_score(y_test, predicted_prob, \n",
        "                            multi_class=\"ovr\")\n",
        "print(\"Accuracy:\",  round(accuracy,2))\n",
        "print(\"Auc:\", round(auc,2))\n",
        "print(\"Detail:\")\n",
        "print(metrics.classification_report(y_test, predicted))\n",
        "    \n",
        "## Plot confusion matrix\n",
        "cm = metrics.confusion_matrix(y_test, predicted)\n",
        "fig, ax = plt.subplots()\n",
        "sns.heatmap(cm, annot=True, fmt='d', ax=ax, cmap=plt.cm.Blues, \n",
        "            cbar=False)\n",
        "ax.set(xlabel=\"Pred\", ylabel=\"True\", xticklabels=classes, \n",
        "       yticklabels=classes, title=\"Confusion matrix\")\n",
        "plt.yticks(rotation=0)\n",
        "\n",
        "fig, ax = plt.subplots(nrows=1, ncols=2)\n",
        "## Plot roc\n",
        "for i in range(len(classes)):\n",
        "    fpr, tpr, thresholds = metrics.roc_curve(y_test_array[:,i],  \n",
        "                           predicted_prob[:,i])\n",
        "    ax[0].plot(fpr, tpr, lw=3, \n",
        "              label='{0} (area={1:0.2f})'.format(classes[i], \n",
        "                              metrics.auc(fpr, tpr))\n",
        "               )\n",
        "ax[0].plot([0,1], [0,1], color='navy', lw=3, linestyle='--')\n",
        "ax[0].set(xlim=[-0.05,1.0], ylim=[0.0,1.05], \n",
        "          xlabel='False Positive Rate', \n",
        "          ylabel=\"True Positive Rate (Recall)\", \n",
        "          title=\"Receiver operating characteristic\")\n",
        "ax[0].legend(loc=\"lower right\")\n",
        "ax[0].grid(True)\n",
        "    \n",
        "## Plot precision-recall curve\n",
        "for i in range(len(classes)):\n",
        "    precision, recall, thresholds = metrics.precision_recall_curve(\n",
        "                 y_test_array[:,i], predicted_prob[:,i])\n",
        "    ax[1].plot(recall, precision, lw=3, \n",
        "               label='{0} (area={1:0.2f})'.format(classes[i], \n",
        "                                  metrics.auc(recall, precision))\n",
        "              )\n",
        "ax[1].set(xlim=[0.0,1.05], ylim=[0.0,1.05], xlabel='Recall', \n",
        "          ylabel=\"Precision\", title=\"Precision-Recall curve\")\n",
        "ax[1].legend(loc=\"best\")\n",
        "ax[1].grid(True)\n",
        "plt.show()"
      ],
      "metadata": {
        "colab": {
          "base_uri": "https://localhost:8080/",
          "height": 811
        },
        "id": "Mt6TFDOfd9vs",
        "outputId": "b3cc351f-b926-4413-f4d7-fac24ecafa9f"
      },
      "execution_count": null,
      "outputs": [
        {
          "output_type": "stream",
          "name": "stdout",
          "text": [
            "Accuracy: 0.77\n",
            "Auc: 0.84\n",
            "Detail:\n",
            "              precision    recall  f1-score   support\n",
            "\n",
            "    negative       0.73      0.78      0.75       812\n",
            "     neutral       0.35      0.29      0.32       249\n",
            "    positive       0.86      0.85      0.85      1610\n",
            "\n",
            "    accuracy                           0.77      2671\n",
            "   macro avg       0.64      0.64      0.64      2671\n",
            "weighted avg       0.77      0.77      0.77      2671\n",
            "\n"
          ]
        },
        {
          "output_type": "display_data",
          "data": {
            "text/plain": [
              "<Figure size 432x288 with 1 Axes>"
            ],
            "image/png": "[encoded data removed]"
          },
          "metadata": {
            "needs_background": "light"
          }
        },
        {
          "output_type": "display_data",
          "data": {
            "text/plain": [
              "<Figure size 432x288 with 2 Axes>"
            ],
            "image/png": "[encoded data removed]"
          },
          "metadata": {
            "needs_background": "light"
          }
        }
      ]
    },
    {
      "cell_type": "markdown",
      "source": [
        "### TF-IDF"
      ],
      "metadata": {
        "id": "Vk8vmHBXWgVo"
      }
    },
    {
      "cell_type": "markdown",
      "source": [
        "Terms frequency is not necessarily the best representation for text. In fact, you can find in the corpus common words with the highest frequency but little predictive power over the target variable. To address this problem there is an advanced variant of the Bag-of-Words that, instead of simple counting, uses the term frequency–inverse document frequency (or Tf–Idf). Basically, the value of a word increases proportionally to count, but it is inversely proportional to the frequency of the word in the corpus."
      ],
      "metadata": {
        "id": "PDXcW_dJ7m4t"
      }
    },
    {
      "cell_type": "code",
      "source": [
        "## Generate table of words with their counts\n",
        "## TfidfVectorizer transform train and test\n",
        "con_vec_tf = TfidfVectorizer(max_features = 10000, stop_words='english',tokenizer=tokenize, ngram_range = (1, 3))\n",
        "X_train_tf = con_vec_tf.fit_transform(train['review'])\n",
        "y_train = train['sentiment']\n",
        "X_test_tf = con_vec_tf.transform(test['review'])\n",
        "y_test = test['sentiment']\n",
        "\n",
        "print(X_train_tf.shape)\n",
        "print(X_test_tf.shape)"
      ],
      "metadata": {
        "colab": {
          "base_uri": "https://localhost:8080/"
        },
        "id": "kAQOhVI7lQV7",
        "outputId": "cac79bb0-d314-4043-c80c-d03723662d3d"
      },
      "execution_count": null,
      "outputs": [
        {
          "output_type": "stream",
          "name": "stderr",
          "text": [
            "/usr/local/lib/python3.7/dist-packages/sklearn/feature_extraction/text.py:401: UserWarning: Your stop_words may be inconsistent with your preprocessing. Tokenizing the stop words generated tokens ['abov', 'afterward', 'alon', 'alreadi', 'alway', 'ani', 'anoth', 'anyon', 'anyth', 'anywher', 'becam', 'becaus', 'becom', 'befor', 'besid', 'cri', 'describ', 'dure', 'els', 'elsewher', 'empti', 'everi', 'everyon', 'everyth', 'everywher', 'fifti', 'forti', 'henc', 'hereaft', 'herebi', 'howev', 'hundr', 'inde', 'mani', 'meanwhil', 'moreov', 'nobodi', 'noon', 'noth', 'nowher', 'onc', 'onli', 'otherwis', 'ourselv', 'perhap', 'pleas', 'sever', 'sinc', 'sincer', 'sixti', 'someon', 'someth', 'sometim', 'somewher', 'themselv', 'thenc', 'thereaft', 'therebi', 'therefor', 'togeth', 'twelv', 'twenti', 'veri', 'whatev', 'whenc', 'whenev', 'wherea', 'whereaft', 'wherebi', 'wherev', 'whi', 'yourselv'] not in stop_words.\n",
            "  % sorted(inconsistent)\n"
          ]
        },
        {
          "output_type": "stream",
          "name": "stdout",
          "text": [
            "(8012, 10000)\n",
            "(2671, 10000)\n"
          ]
        }
      ]
    },
    {
      "cell_type": "code",
      "source": [
        "from sklearn.linear_model import LogisticRegression\n",
        "\n",
        "clf_tf = LogisticRegression(C=30.0, class_weight='balanced', solver='sag', \n",
        "                             multi_class='multinomial', n_jobs=-1, random_state=40, \n",
        "                             verbose=1, max_iter = 1000)\n",
        "clf_tf.fit(X_train_tf, y_train)\n",
        "y_predicted_tf = clf_tf.predict(X_test_tf)"
      ],
      "metadata": {
        "colab": {
          "base_uri": "https://localhost:8080/"
        },
        "id": "ZtI1hFzPrUwt",
        "outputId": "02d4389b-8215-49c4-81da-c290cbf07573"
      },
      "execution_count": null,
      "outputs": [
        {
          "output_type": "stream",
          "name": "stderr",
          "text": [
            "[Parallel(n_jobs=-1)]: Using backend ThreadingBackend with 2 concurrent workers.\n"
          ]
        },
        {
          "output_type": "stream",
          "name": "stdout",
          "text": [
            "convergence after 92 epochs took 1 seconds\n"
          ]
        },
        {
          "output_type": "stream",
          "name": "stderr",
          "text": [
            "[Parallel(n_jobs=-1)]: Done   1 out of   1 | elapsed:    1.2s finished\n"
          ]
        }
      ]
    },
    {
      "cell_type": "code",
      "source": [
        "accuracy_tf, precision_tf, recall_tf, f1_tf = get_metrics(y_test, y_predicted_tf)\n",
        "print(\"accuracy = %.3f, precision = %.3f, recall = %.3f, f1 = %.3f\" % (accuracy_tf, precision_tf, \n",
        "                                                                       recall_tf, f1_tf))"
      ],
      "metadata": {
        "colab": {
          "base_uri": "https://localhost:8080/"
        },
        "id": "japJ0cujr9G4",
        "outputId": "e238c333-2782-4c5c-80c4-f0ec06ac5ba0"
      },
      "execution_count": null,
      "outputs": [
        {
          "output_type": "stream",
          "name": "stdout",
          "text": [
            "accuracy = 0.775, precision = 0.772, recall = 0.775, f1 = 0.773\n"
          ]
        }
      ]
    },
    {
      "cell_type": "code",
      "source": [
        "predicted = y_predicted_tf\n",
        "predicted_prob = clf_tf.predict_proba(X_test_tf)"
      ],
      "metadata": {
        "id": "xzgftlj_euC6"
      },
      "execution_count": null,
      "outputs": []
    },
    {
      "cell_type": "code",
      "source": [
        "import matplotlib.pyplot as plt\n",
        "import seaborn as sns\n",
        "\n",
        "classes = np.unique(y_test)\n",
        "y_test_array = pd.get_dummies(y_test, drop_first=False).values\n",
        "    \n",
        "## Accuracy, Precision, Recall\n",
        "accuracy = metrics.accuracy_score(y_test, predicted)\n",
        "auc = metrics.roc_auc_score(y_test, predicted_prob, \n",
        "                            multi_class=\"ovr\")\n",
        "print(\"Accuracy:\",  round(accuracy,2))\n",
        "print(\"Auc:\", round(auc,2))\n",
        "print(\"Detail:\")\n",
        "print(metrics.classification_report(y_test, predicted))\n",
        "    \n",
        "## Plot confusion matrix\n",
        "cm = metrics.confusion_matrix(y_test, predicted)\n",
        "fig, ax = plt.subplots()\n",
        "sns.heatmap(cm, annot=True, fmt='d', ax=ax, cmap=plt.cm.Blues, \n",
        "            cbar=False)\n",
        "ax.set(xlabel=\"Pred\", ylabel=\"True\", xticklabels=classes, \n",
        "       yticklabels=classes, title=\"Confusion matrix\")\n",
        "plt.yticks(rotation=0)\n",
        "\n",
        "fig, ax = plt.subplots(nrows=1, ncols=2)\n",
        "## Plot roc\n",
        "for i in range(len(classes)):\n",
        "    fpr, tpr, thresholds = metrics.roc_curve(y_test_array[:,i],  \n",
        "                           predicted_prob[:,i])\n",
        "    ax[0].plot(fpr, tpr, lw=3, \n",
        "              label='{0} (area={1:0.2f})'.format(classes[i], \n",
        "                              metrics.auc(fpr, tpr))\n",
        "               )\n",
        "ax[0].plot([0,1], [0,1], color='navy', lw=3, linestyle='--')\n",
        "ax[0].set(xlim=[-0.05,1.0], ylim=[0.0,1.05], \n",
        "          xlabel='False Positive Rate', \n",
        "          ylabel=\"True Positive Rate (Recall)\", \n",
        "          title=\"Receiver operating characteristic\")\n",
        "ax[0].legend(loc=\"lower right\")\n",
        "ax[0].grid(True)\n",
        "    \n",
        "## Plot precision-recall curve\n",
        "for i in range(len(classes)):\n",
        "    precision, recall, thresholds = metrics.precision_recall_curve(\n",
        "                 y_test_array[:,i], predicted_prob[:,i])\n",
        "    ax[1].plot(recall, precision, lw=3, \n",
        "               label='{0} (area={1:0.2f})'.format(classes[i], \n",
        "                                  metrics.auc(recall, precision))\n",
        "              )\n",
        "ax[1].set(xlim=[0.0,1.05], ylim=[0.0,1.05], xlabel='Recall', \n",
        "          ylabel=\"Precision\", title=\"Precision-Recall curve\")\n",
        "ax[1].legend(loc=\"best\")\n",
        "ax[1].grid(True)\n",
        "plt.show()"
      ],
      "metadata": {
        "colab": {
          "base_uri": "https://localhost:8080/",
          "height": 811
        },
        "id": "C5durJXmdjt9",
        "outputId": "dbe9460b-de09-43a0-d8a0-11d85feeb32a"
      },
      "execution_count": null,
      "outputs": [
        {
          "output_type": "stream",
          "name": "stdout",
          "text": [
            "Accuracy: 0.78\n",
            "Auc: 0.85\n",
            "Detail:\n",
            "              precision    recall  f1-score   support\n",
            "\n",
            "    negative       0.73      0.78      0.75       812\n",
            "     neutral       0.35      0.31      0.32       249\n",
            "    positive       0.86      0.85      0.85      1610\n",
            "\n",
            "    accuracy                           0.78      2671\n",
            "   macro avg       0.65      0.64      0.64      2671\n",
            "weighted avg       0.77      0.78      0.77      2671\n",
            "\n"
          ]
        },
        {
          "output_type": "display_data",
          "data": {
            "text/plain": [
              "<Figure size 432x288 with 1 Axes>"
            ],
            "image/png": "[encoded data removed]"
          },
          "metadata": {
            "needs_background": "light"
          }
        },
        {
          "output_type": "display_data",
          "data": {
            "text/plain": [
              "<Figure size 432x288 with 2 Axes>"
            ],
            "image/png": "[encoded data removed]"
          },
          "metadata": {
            "needs_background": "light"
          }
        }
      ]
    },
    {
      "cell_type": "markdown",
      "source": [
        "### Word2Vec"
      ],
      "metadata": {
        "id": "3jJyQQ8pWib6"
      }
    },
    {
      "cell_type": "markdown",
      "source": [
        "Word2vec is a model that was pre-trained on a very large corpus, and provides embeddings that map words that are similar close to each other. A quick way to get a sentence embedding for a classifier, is to average word2vec scores of all words in each sentence."
      ],
      "metadata": {
        "id": "_5gq2eaQ-jTc"
      }
    },
    {
      "cell_type": "markdown",
      "source": [
        "In Python, you can load a pre-trained Word Embedding model from genism-data."
      ],
      "metadata": {
        "id": "YkdxsDe2iQpA"
      }
    },
    {
      "cell_type": "code",
      "source": [
        "!pip install -U -q PyDrive\n",
        "from pydrive.auth import GoogleAuth\n",
        "from pydrive.drive import GoogleDrive\n",
        "from google.colab import auth\n",
        "from oauth2client.client import GoogleCredentials"
      ],
      "metadata": {
        "id": "qAHIcRITaK2e"
      },
      "execution_count": null,
      "outputs": []
    },
    {
      "cell_type": "code",
      "source": [
        "auth.authenticate_user()\n",
        "gauth = GoogleAuth()\n",
        "gauth.credentials = GoogleCredentials.get_application_default()\n",
        "drive = GoogleDrive(gauth)"
      ],
      "metadata": {
        "id": "GFCCjUh2aRts"
      },
      "execution_count": null,
      "outputs": []
    },
    {
      "cell_type": "code",
      "source": [
        "downloaded = drive.CreateFile({'id': \"0B7XkCwpI5KDYNlNUTTlSS21pQmM\"})\n",
        "downloaded.GetContentFile(\"GoogleNews-vectors-negative300.bin.gz\")"
      ],
      "metadata": {
        "id": "bYZ8hL52aAdP"
      },
      "execution_count": null,
      "outputs": []
    },
    {
      "cell_type": "code",
      "source": [
        "import gensim\n",
        "word2vec_path = \"GoogleNews-vectors-negative300.bin.gz\"\n",
        "word2vec = gensim.models.KeyedVectors.load_word2vec_format(word2vec_path, binary=True)"
      ],
      "metadata": {
        "id": "boBSsad-Wkis"
      },
      "execution_count": null,
      "outputs": []
    },
    {
      "cell_type": "code",
      "source": [
        "# calculate the average word2vec scores for all the words in each sentence\n",
        "def get_average_word2vec(tokens_list, vector, generate_missing=False, k=300):\n",
        "    if len(tokens_list)<1:\n",
        "        return np.zeros(k)\n",
        "    if generate_missing:\n",
        "        vectorized = [vector[word] if word in vector else np.random.rand(k) for word in tokens_list]\n",
        "    else:\n",
        "        vectorized = [vector[word] if word in vector else np.zeros(k) for word in tokens_list]\n",
        "    length = len(vectorized)\n",
        "    summed = np.sum(vectorized, axis=0)\n",
        "    averaged = np.divide(summed, length)\n",
        "    return averaged\n",
        "\n",
        "def get_word2vec_embeddings(vectors, list_review, generate_missing=False):\n",
        "    embeddings = list_review.apply(lambda x: get_average_word2vec(x, vectors, generate_missing=generate_missing))\n",
        "    return list(embeddings)"
      ],
      "metadata": {
        "id": "9Vj5hxdxXq5_"
      },
      "execution_count": null,
      "outputs": []
    },
    {
      "cell_type": "code",
      "source": [
        "rev_train = train['review_list']\n",
        "rev_test = test['review_list']"
      ],
      "metadata": {
        "id": "t4Ki2mxrcAll"
      },
      "execution_count": null,
      "outputs": []
    },
    {
      "cell_type": "code",
      "source": [
        "rev_train"
      ],
      "metadata": {
        "colab": {
          "base_uri": "https://localhost:8080/"
        },
        "id": "AK48iyGJcI-G",
        "outputId": "92a38b2d-4cf0-4ec0-8961-2a29b0471f0e"
      },
      "execution_count": null,
      "outputs": [
        {
          "output_type": "execute_result",
          "data": {
            "text/plain": [
              "2478     [major, depress, disord, social, anxieti, post...\n",
              "16447    [still, use, pill, nausea, lucid, dream, night...\n",
              "9654     [take, mg, began, littl, effect, feel, anxious...\n",
              "7199     [medic, instead, help, made, mean, took, day, ...\n",
              "12994    [suffer, major, depress, past, year, caus, sev...\n",
              "                               ...                        \n",
              "7055     [start, mgs, day, stop, day, felt, nauseous, i...\n",
              "14496    [manag, go, ten, year, without, take, anyth, r...\n",
              "6233     [doctor, put, celexa, start, tension, headach,...\n",
              "7173     [mg, imipramin, year, work, switch, cymbalta, ...\n",
              "19088    [perman, ruin, life, tri, week, decemb, shiver...\n",
              "Name: review_list, Length: 8012, dtype: object"
            ]
          },
          "metadata": {},
          "execution_count": 112
        }
      ]
    },
    {
      "cell_type": "code",
      "source": [
        "X_train_w2v = get_word2vec_embeddings(word2vec, rev_train)\n",
        "X_test_w2v = get_word2vec_embeddings(word2vec, rev_test)"
      ],
      "metadata": {
        "id": "yhz6nLk-rEVD"
      },
      "execution_count": null,
      "outputs": []
    },
    {
      "cell_type": "code",
      "source": [
        "from sklearn.linear_model import LogisticRegression\n",
        "\n",
        "clf_w2v = LogisticRegression(C=30.0, class_weight='balanced', solver='sag', \n",
        "                             multi_class='multinomial', n_jobs=-1, random_state=40, \n",
        "                             verbose=1, max_iter = 1000)\n",
        "clf_w2v.fit(X_train_w2v, y_train)\n",
        "y_predicted_word2vec = clf_w2v.predict(X_test_w2v)"
      ],
      "metadata": {
        "colab": {
          "base_uri": "https://localhost:8080/"
        },
        "id": "bV6oZzC4qBBz",
        "outputId": "c0367333-31fa-43d4-8762-3e309326f0ae"
      },
      "execution_count": null,
      "outputs": [
        {
          "output_type": "stream",
          "name": "stderr",
          "text": [
            "[Parallel(n_jobs=-1)]: Using backend ThreadingBackend with 2 concurrent workers.\n"
          ]
        },
        {
          "output_type": "stream",
          "name": "stdout",
          "text": [
            "convergence after 292 epochs took 14 seconds\n"
          ]
        },
        {
          "output_type": "stream",
          "name": "stderr",
          "text": [
            "[Parallel(n_jobs=-1)]: Done   1 out of   1 | elapsed:   14.4s finished\n"
          ]
        }
      ]
    },
    {
      "cell_type": "code",
      "source": [
        "accuracy_word2vec, precision_word2vec, recall_word2vec, f1_word2vec = get_metrics(y_test, y_predicted_word2vec)\n",
        "print(\"accuracy = %.3f, precision = %.3f, recall = %.3f, f1 = %.3f\" % (accuracy_word2vec, precision_word2vec, \n",
        "                                                                       recall_word2vec, f1_word2vec))"
      ],
      "metadata": {
        "colab": {
          "base_uri": "https://localhost:8080/"
        },
        "id": "hdM8wSboqu7k",
        "outputId": "921ae3b4-e5eb-4e7c-dda7-ad07cbd03f9c"
      },
      "execution_count": null,
      "outputs": [
        {
          "output_type": "stream",
          "name": "stdout",
          "text": [
            "accuracy = 0.338, precision = 0.450, recall = 0.338, f1 = 0.369\n"
          ]
        }
      ]
    },
    {
      "cell_type": "markdown",
      "source": [
        "Apart from using a pre-trained model, I can also fit my own Word2Vec on the training data corpus with gensim. \n",
        "\n",
        "Before fitting the model, the review needs to be transformed into a list of lists of n-grams. In this particular case, I’ll try to capture unigrams, bigrams, and trigrams."
      ],
      "metadata": {
        "id": "uhwIG5JMiTjz"
      }
    },
    {
      "cell_type": "code",
      "source": [
        "train['review_list']"
      ],
      "metadata": {
        "colab": {
          "base_uri": "https://localhost:8080/"
        },
        "id": "IZMt3pegnHJ0",
        "outputId": "00ed0886-aba1-4e22-b6ae-a78000f21a68"
      },
      "execution_count": null,
      "outputs": [
        {
          "output_type": "execute_result",
          "data": {
            "text/plain": [
              "2478     [major, depress, disord, social, anxieti, post...\n",
              "16447    [still, use, pill, nausea, lucid, dream, night...\n",
              "9654     [take, mg, began, littl, effect, feel, anxious...\n",
              "7199     [medic, instead, help, made, mean, took, day, ...\n",
              "12994    [suffer, major, depress, past, year, caus, sev...\n",
              "                               ...                        \n",
              "7055     [start, mgs, day, stop, day, felt, nauseous, i...\n",
              "14496    [manag, go, ten, year, without, take, anyth, r...\n",
              "6233     [doctor, put, celexa, start, tension, headach,...\n",
              "7173     [mg, imipramin, year, work, switch, cymbalta, ...\n",
              "19088    [perman, ruin, life, tri, week, decemb, shiver...\n",
              "Name: review_list, Length: 8012, dtype: object"
            ]
          },
          "metadata": {},
          "execution_count": 124
        }
      ]
    },
    {
      "cell_type": "code",
      "source": [
        "## create list of lists of unigrams\n",
        "lst_rev = []\n",
        "for string in train['review_list']:\n",
        "   #lst_words = string.split()\n",
        "   lst_grams = [\" \".join(string[i:i+1]) \n",
        "               for i in range(0, len(string), 1)]\n",
        "   lst_rev.append(lst_grams)\n"
      ],
      "metadata": {
        "id": "4TqbnTIbrSY4"
      },
      "execution_count": null,
      "outputs": []
    },
    {
      "cell_type": "code",
      "source": [
        "## detect bigrams and trigrams\n",
        "bigrams_detector = gensim.models.phrases.Phrases(lst_rev, \n",
        "                 delimiter=\" \".encode(), min_count=5, threshold=10)\n",
        "bigrams_detector = gensim.models.phrases.Phraser(bigrams_detector)\n",
        "trigrams_detector = gensim.models.phrases.Phrases(bigrams_detector[lst_rev], \n",
        "            delimiter=\" \".encode(), min_count=5, threshold=10)\n",
        "trigrams_detector = gensim.models.phrases.Phraser(trigrams_detector)"
      ],
      "metadata": {
        "id": "Jxfc1u5qTddh"
      },
      "execution_count": null,
      "outputs": []
    },
    {
      "cell_type": "code",
      "source": [
        "## fit w2v\n",
        "word2vec = gensim.models.word2vec.Word2Vec(lst_rev, size=300,   \n",
        "            window=8, min_count=1, sg=1, iter=30)"
      ],
      "metadata": {
        "id": "Tt0BW1DvkQun"
      },
      "execution_count": null,
      "outputs": []
    },
    {
      "cell_type": "code",
      "source": [
        "def get_word2vec_embeddings(vectors, list_review, generate_missing=False, k=300):\n",
        "    embeddings = list_review.apply(lambda x: get_average_word2vec(x, vectors, generate_missing=generate_missing, k=k))\n",
        "    return list(embeddings)"
      ],
      "metadata": {
        "id": "Itja68WKi1d_"
      },
      "execution_count": null,
      "outputs": []
    },
    {
      "cell_type": "code",
      "source": [
        "X_train_w2v = get_word2vec_embeddings(word2vec, rev_train)\n",
        "X_test_w2v = get_word2vec_embeddings(word2vec, rev_test)"
      ],
      "metadata": {
        "colab": {
          "base_uri": "https://localhost:8080/"
        },
        "id": "1y2NH42dfkM7",
        "outputId": "08d64797-89c7-4ffa-9b79-0bfe2dded3c3"
      },
      "execution_count": null,
      "outputs": [
        {
          "output_type": "stream",
          "name": "stderr",
          "text": [
            "/usr/local/lib/python3.7/dist-packages/ipykernel_launcher.py:8: DeprecationWarning: Call to deprecated `__contains__` (Method will be removed in 4.0.0, use self.wv.__contains__() instead).\n",
            "  \n",
            "/usr/local/lib/python3.7/dist-packages/ipykernel_launcher.py:8: DeprecationWarning: Call to deprecated `__getitem__` (Method will be removed in 4.0.0, use self.wv.__getitem__() instead).\n",
            "  \n"
          ]
        }
      ]
    },
    {
      "cell_type": "code",
      "source": [
        "clf_w2v = LogisticRegression(C=30.0, class_weight='balanced', solver='sag', \n",
        "                             multi_class='multinomial', n_jobs=-1, random_state=40, \n",
        "                             verbose=1, max_iter = 1000)\n",
        "clf_w2v.fit(X_train_w2v, y_train)\n",
        "y_predicted_word2vec = clf_w2v.predict(X_test_w2v)"
      ],
      "metadata": {
        "colab": {
          "base_uri": "https://localhost:8080/"
        },
        "id": "H_LefljZgbUN",
        "outputId": "0a87ce43-37ea-4fbf-bf1c-269d44cdaf1d"
      },
      "execution_count": null,
      "outputs": [
        {
          "output_type": "stream",
          "name": "stderr",
          "text": [
            "[Parallel(n_jobs=-1)]: Using backend ThreadingBackend with 2 concurrent workers.\n"
          ]
        },
        {
          "output_type": "stream",
          "name": "stdout",
          "text": [
            "max_iter reached after 53 seconds\n"
          ]
        },
        {
          "output_type": "stream",
          "name": "stderr",
          "text": [
            "/usr/local/lib/python3.7/dist-packages/sklearn/linear_model/_sag.py:354: ConvergenceWarning: The max_iter was reached which means the coef_ did not converge\n",
            "  ConvergenceWarning,\n",
            "[Parallel(n_jobs=-1)]: Done   1 out of   1 | elapsed:   53.1s finished\n"
          ]
        }
      ]
    },
    {
      "cell_type": "code",
      "source": [
        "accuracy_word2vec, precision_word2vec, recall_word2vec, f1_word2vec = get_metrics(y_test, y_predicted_word2vec)\n",
        "print(\"accuracy = %.3f, precision = %.3f, recall = %.3f, f1 = %.3f\" % (accuracy_word2vec, precision_word2vec, \n",
        "                                                                       recall_word2vec, f1_word2vec))"
      ],
      "metadata": {
        "colab": {
          "base_uri": "https://localhost:8080/"
        },
        "id": "aPrw938Fgfgb",
        "outputId": "f57bf1c5-f20b-448b-99a1-3aac17709e4f"
      },
      "execution_count": null,
      "outputs": [
        {
          "output_type": "stream",
          "name": "stdout",
          "text": [
            "accuracy = 0.350, precision = 0.455, recall = 0.350, f1 = 0.377\n"
          ]
        }
      ]
    },
    {
      "cell_type": "code",
      "source": [
        "predicted = y_predicted_word2vec\n",
        "predicted_prob = clf_w2v.predict_proba(X_test_w2v)"
      ],
      "metadata": {
        "id": "ha3NmcAkll1s"
      },
      "execution_count": null,
      "outputs": []
    },
    {
      "cell_type": "code",
      "source": [
        "y_predicted_word2vec"
      ],
      "metadata": {
        "colab": {
          "base_uri": "https://localhost:8080/"
        },
        "id": "L8AHq5NMkm4M",
        "outputId": "a368a889-012c-4f43-eaed-6488dd91a435"
      },
      "execution_count": null,
      "outputs": [
        {
          "output_type": "execute_result",
          "data": {
            "text/plain": [
              "array(['neutral', 'positive', 'negative', ..., 'neutral', 'neutral',\n",
              "       'negative'], dtype=object)"
            ]
          },
          "metadata": {},
          "execution_count": 139
        }
      ]
    },
    {
      "cell_type": "code",
      "source": [
        "import matplotlib.pyplot as plt\n",
        "import seaborn as sns\n",
        "\n",
        "classes = np.unique(y_test)\n",
        "y_test_array = pd.get_dummies(y_test, drop_first=False).values\n",
        "    \n",
        "## Accuracy, Precision, Recall\n",
        "accuracy = metrics.accuracy_score(y_test, predicted)\n",
        "auc = metrics.roc_auc_score(y_test, predicted_prob, \n",
        "                            multi_class=\"ovr\")\n",
        "print(\"Accuracy:\",  round(accuracy,2))\n",
        "print(\"Auc:\", round(auc,2))\n",
        "print(\"Detail:\")\n",
        "print(metrics.classification_report(y_test, predicted))\n",
        "    \n",
        "## Plot confusion matrix\n",
        "cm = metrics.confusion_matrix(y_test, predicted)\n",
        "fig, ax = plt.subplots()\n",
        "sns.heatmap(cm, annot=True, fmt='d', ax=ax, cmap=plt.cm.Blues, \n",
        "            cbar=False)\n",
        "ax.set(xlabel=\"Pred\", ylabel=\"True\", xticklabels=classes, \n",
        "       yticklabels=classes, title=\"Confusion matrix\")\n",
        "plt.yticks(rotation=0)\n",
        "\n",
        "fig, ax = plt.subplots(nrows=1, ncols=2)\n",
        "## Plot roc\n",
        "for i in range(len(classes)):\n",
        "    fpr, tpr, thresholds = metrics.roc_curve(y_test_array[:,i],  \n",
        "                           predicted_prob[:,i])\n",
        "    ax[0].plot(fpr, tpr, lw=3, \n",
        "              label='{0} (area={1:0.2f})'.format(classes[i], \n",
        "                              metrics.auc(fpr, tpr))\n",
        "               )\n",
        "ax[0].plot([0,1], [0,1], color='navy', lw=3, linestyle='--')\n",
        "ax[0].set(xlim=[-0.05,1.0], ylim=[0.0,1.05], \n",
        "          xlabel='False Positive Rate', \n",
        "          ylabel=\"True Positive Rate (Recall)\", \n",
        "          title=\"Receiver operating characteristic\")\n",
        "ax[0].legend(loc=\"lower right\")\n",
        "ax[0].grid(True)\n",
        "    \n",
        "## Plot precision-recall curve\n",
        "for i in range(len(classes)):\n",
        "    precision, recall, thresholds = metrics.precision_recall_curve(\n",
        "                 y_test_array[:,i], predicted_prob[:,i])\n",
        "    ax[1].plot(recall, precision, lw=3, \n",
        "               label='{0} (area={1:0.2f})'.format(classes[i], \n",
        "                                  metrics.auc(recall, precision))\n",
        "              )\n",
        "ax[1].set(xlim=[0.0,1.05], ylim=[0.0,1.05], xlabel='Recall', \n",
        "          ylabel=\"Precision\", title=\"Precision-Recall curve\")\n",
        "ax[1].legend(loc=\"best\")\n",
        "ax[1].grid(True)\n",
        "plt.show()"
      ],
      "metadata": {
        "colab": {
          "base_uri": "https://localhost:8080/",
          "height": 811
        },
        "id": "ZAExjMj8kO_V",
        "outputId": "39d08e47-a417-48f5-eaea-5f648442e12d"
      },
      "execution_count": null,
      "outputs": [
        {
          "output_type": "stream",
          "name": "stdout",
          "text": [
            "Accuracy: 0.35\n",
            "Auc: 0.49\n",
            "Detail:\n",
            "              precision    recall  f1-score   support\n",
            "\n",
            "    negative       0.30      0.40      0.34       812\n",
            "     neutral       0.10      0.26      0.14       249\n",
            "    positive       0.59      0.34      0.43      1610\n",
            "\n",
            "    accuracy                           0.35      2671\n",
            "   macro avg       0.33      0.33      0.31      2671\n",
            "weighted avg       0.45      0.35      0.38      2671\n",
            "\n"
          ]
        },
        {
          "output_type": "display_data",
          "data": {
            "text/plain": [
              "<Figure size 432x288 with 1 Axes>"
            ],
            "image/png": "[encoded data removed]"
          },
          "metadata": {
            "needs_background": "light"
          }
        },
        {
          "output_type": "display_data",
          "data": {
            "text/plain": [
              "<Figure size 432x288 with 2 Axes>"
            ],
            "image/png": "[encoded data removed]"
          },
          "metadata": {
            "needs_background": "light"
          }
        }
      ]
    },
    {
      "cell_type": "markdown",
      "source": [
        "It seems that both pretrained and self-trained word2vec model doesn't work well with sentiment classification (at least with logistic regression). I will try another method Doc2Vec instead to see if it gives a better result."
      ],
      "metadata": {
        "id": "gj7JeO4HhEyH"
      }
    },
    {
      "cell_type": "markdown",
      "source": [
        "### Doc2Vec"
      ],
      "metadata": {
        "id": "t35-jnS6XWPc"
      }
    },
    {
      "cell_type": "code",
      "source": [
        "import multiprocessing\n",
        "cores = multiprocessing.cpu_count()"
      ],
      "metadata": {
        "id": "WBNL3ssRSqQI"
      },
      "execution_count": null,
      "outputs": []
    },
    {
      "cell_type": "code",
      "source": [
        "train[\"review_list\"]"
      ],
      "metadata": {
        "colab": {
          "base_uri": "https://localhost:8080/"
        },
        "id": "X70xIWAmb79K",
        "outputId": "7ca82c0c-1e18-4a25-fb21-5a3591ebd789"
      },
      "execution_count": null,
      "outputs": [
        {
          "output_type": "execute_result",
          "data": {
            "text/plain": [
              "2478     [major, depress, disord, social, anxieti, post...\n",
              "16447    [still, use, pill, nausea, lucid, dream, night...\n",
              "9654     [take, mg, began, littl, effect, feel, anxious...\n",
              "7199     [medic, instead, help, made, mean, took, day, ...\n",
              "12994    [suffer, major, depress, past, year, caus, sev...\n",
              "                               ...                        \n",
              "7055     [start, mgs, day, stop, day, felt, nauseous, i...\n",
              "14496    [manag, go, ten, year, without, take, anyth, r...\n",
              "6233     [doctor, put, celexa, start, tension, headach,...\n",
              "7173     [mg, imipramin, year, work, switch, cymbalta, ...\n",
              "19088    [perman, ruin, life, tri, week, decemb, shiver...\n",
              "Name: review_list, Length: 8012, dtype: object"
            ]
          },
          "metadata": {},
          "execution_count": 142
        }
      ]
    },
    {
      "cell_type": "code",
      "source": [
        "test[\"review_list\"]"
      ],
      "metadata": {
        "colab": {
          "base_uri": "https://localhost:8080/"
        },
        "id": "RwvL4dn8s_Wz",
        "outputId": "e6caafcf-cc94-442b-a7ac-2ed1e8a41458"
      },
      "execution_count": null,
      "outputs": [
        {
          "output_type": "execute_result",
          "data": {
            "text/plain": [
              "8570     [mg, day, week, complet, zombi, desir, anyth, ...\n",
              "20088    [wellbutrin, xl, mg, day, treat, depress, anxi...\n",
              "15966    [medic, ever, first, week, fine, side, effect,...\n",
              "10916    [paxil, year, basic, becam, celib, absolut, de...\n",
              "15752    [week, say, viibryd, lexapro, year, felt, like...\n",
              "                               ...                        \n",
              "4625     [happi, sad, actual, even, everyth, kind, like...\n",
              "9204     [one, week, differ, usual, wake, depress, low,...\n",
              "18427    [wife, take, week, almost, complet, back, tri,...\n",
              "10826    [pleas, result, two, week, lot, energi, feel, ...\n",
              "19085    [okay, first, week, felt, littl, better, wasnt...\n",
              "Name: review_list, Length: 2671, dtype: object"
            ]
          },
          "metadata": {},
          "execution_count": 144
        }
      ]
    },
    {
      "cell_type": "code",
      "source": [
        "train = transform_rating(train)\n",
        "test = transform_rating(test)"
      ],
      "metadata": {
        "id": "M1vg3dKnts5o"
      },
      "execution_count": null,
      "outputs": []
    },
    {
      "cell_type": "code",
      "source": [
        "from gensim.models.doc2vec import TaggedDocument\n",
        "\n",
        "train_tagged = train.apply(\n",
        "    lambda r: TaggedDocument(words=r[\"review_list\"], tags=[r['sentiment']]), axis=1)\n",
        "test_tagged = test.apply(\n",
        "    lambda r: TaggedDocument(words=r[\"review_list\"], tags=[r['sentiment']]), axis=1)"
      ],
      "metadata": {
        "id": "XzGr2_1-s4gT"
      },
      "execution_count": null,
      "outputs": []
    },
    {
      "cell_type": "code",
      "source": [
        "from gensim.models import Doc2Vec\n",
        "from tqdm import tqdm\n",
        "\n",
        "model_dbow = Doc2Vec(dm=0, vector_size=300, negative=5, hs=0, min_count=2, sample = 0, workers=cores)\n",
        "model_dbow.build_vocab([x for x in tqdm(train_tagged.values)])"
      ],
      "metadata": {
        "colab": {
          "base_uri": "https://localhost:8080/"
        },
        "id": "LURpVfYQtIBn",
        "outputId": "c2ea4aa2-d219-47d6-ec7d-23cea01ca9ba"
      },
      "execution_count": null,
      "outputs": [
        {
          "output_type": "stream",
          "name": "stderr",
          "text": [
            "100%|██████████| 8012/8012 [00:00<00:00, 960108.67it/s]\n"
          ]
        }
      ]
    },
    {
      "cell_type": "code",
      "source": [
        "from sklearn import utils\n",
        "\n",
        "for epoch in range(30):\n",
        "    model_dbow.train(utils.shuffle([x for x in tqdm(train_tagged.values)]), total_examples=len(train_tagged.values), epochs=1)\n",
        "    model_dbow.alpha -= 0.002\n",
        "    model_dbow.min_alpha = model_dbow.alpha"
      ],
      "metadata": {
        "colab": {
          "base_uri": "https://localhost:8080/"
        },
        "id": "dkfMHnhetLDU",
        "outputId": "06b04082-49aa-45e4-a3fe-3d7e99d551e7"
      },
      "execution_count": null,
      "outputs": [
        {
          "output_type": "stream",
          "name": "stderr",
          "text": [
            "100%|██████████| 8012/8012 [00:00<00:00, 1185938.86it/s]\n",
            "100%|██████████| 8012/8012 [00:00<00:00, 1205292.62it/s]\n",
            "100%|██████████| 8012/8012 [00:00<00:00, 2082466.61it/s]\n",
            "100%|██████████| 8012/8012 [00:00<00:00, 2449505.33it/s]\n",
            "100%|██████████| 8012/8012 [00:00<00:00, 1222880.77it/s]\n",
            "100%|██████████| 8012/8012 [00:00<00:00, 1170571.40it/s]\n",
            "100%|██████████| 8012/8012 [00:00<00:00, 1808457.84it/s]\n",
            "100%|██████████| 8012/8012 [00:00<00:00, 2615156.70it/s]\n",
            "100%|██████████| 8012/8012 [00:00<00:00, 2459545.02it/s]\n",
            "100%|██████████| 8012/8012 [00:00<00:00, 1842467.44it/s]\n",
            "100%|██████████| 8012/8012 [00:00<00:00, 2589363.82it/s]\n",
            "100%|██████████| 8012/8012 [00:00<00:00, 1210023.18it/s]\n",
            "100%|██████████| 8012/8012 [00:00<00:00, 1282967.34it/s]\n",
            "100%|██████████| 8012/8012 [00:00<00:00, 2509878.53it/s]\n",
            "100%|██████████| 8012/8012 [00:00<00:00, 2496082.87it/s]\n",
            "100%|██████████| 8012/8012 [00:00<00:00, 1127298.34it/s]\n",
            "100%|██████████| 8012/8012 [00:00<00:00, 739525.18it/s]\n",
            "100%|██████████| 8012/8012 [00:00<00:00, 2677883.79it/s]\n",
            "100%|██████████| 8012/8012 [00:00<00:00, 1247253.97it/s]\n",
            "100%|██████████| 8012/8012 [00:00<00:00, 1369108.32it/s]\n",
            "100%|██████████| 8012/8012 [00:00<00:00, 1259643.29it/s]\n",
            "100%|██████████| 8012/8012 [00:00<00:00, 1313507.02it/s]\n",
            "100%|██████████| 8012/8012 [00:00<00:00, 2611701.53it/s]\n",
            "100%|██████████| 8012/8012 [00:00<00:00, 1990803.53it/s]\n",
            "100%|██████████| 8012/8012 [00:00<00:00, 982566.70it/s]\n",
            "100%|██████████| 8012/8012 [00:00<00:00, 1787012.16it/s]\n",
            "100%|██████████| 8012/8012 [00:00<00:00, 1250875.25it/s]\n",
            "100%|██████████| 8012/8012 [00:00<00:00, 2750205.72it/s]\n",
            "100%|██████████| 8012/8012 [00:00<00:00, 1430111.65it/s]\n",
            "100%|██████████| 8012/8012 [00:00<00:00, 1153970.11it/s]\n"
          ]
        }
      ]
    },
    {
      "cell_type": "code",
      "source": [
        "def vec_for_learning(model, tagged_docs):\n",
        "    sents = tagged_docs.values\n",
        "    targets, regressors = zip(*[(doc.tags[0], model.infer_vector(doc.words, steps=20)) for doc in sents])\n",
        "    return targets, regressors"
      ],
      "metadata": {
        "id": "209mibzetN38"
      },
      "execution_count": null,
      "outputs": []
    },
    {
      "cell_type": "code",
      "source": [
        "y_train, X_train = vec_for_learning(model_dbow, train_tagged)\n",
        "y_test, X_test = vec_for_learning(model_dbow, test_tagged)\n",
        "logreg = LogisticRegression(n_jobs=1, C=1e5)\n",
        "logreg.fit(X_train, y_train)\n",
        "y_pred = logreg.predict(X_test)\n",
        "from sklearn.metrics import accuracy_score, f1_score\n",
        "print('Testing accuracy %s' % accuracy_score(y_test, y_pred))\n",
        "print('Testing F1 score: {}'.format(f1_score(y_test, y_pred, average='weighted')))"
      ],
      "metadata": {
        "colab": {
          "base_uri": "https://localhost:8080/"
        },
        "id": "4SDL_y1utOIH",
        "outputId": "419c55df-f798-477e-da8e-3d0de29105f9"
      },
      "execution_count": null,
      "outputs": [
        {
          "output_type": "stream",
          "name": "stdout",
          "text": [
            "Testing accuracy 0.5829277424185698\n",
            "Testing F1 score: 0.4383798303466612\n"
          ]
        },
        {
          "output_type": "stream",
          "name": "stderr",
          "text": [
            "/usr/local/lib/python3.7/dist-packages/sklearn/linear_model/_logistic.py:818: ConvergenceWarning: lbfgs failed to converge (status=1):\n",
            "STOP: TOTAL NO. of ITERATIONS REACHED LIMIT.\n",
            "\n",
            "Increase the number of iterations (max_iter) or scale the data as shown in:\n",
            "    https://scikit-learn.org/stable/modules/preprocessing.html\n",
            "Please also refer to the documentation for alternative solver options:\n",
            "    https://scikit-learn.org/stable/modules/linear_model.html#logistic-regression\n",
            "  extra_warning_msg=_LOGISTIC_SOLVER_CONVERGENCE_MSG,\n"
          ]
        }
      ]
    },
    {
      "cell_type": "markdown",
      "source": [
        "Distributed Memory (DM)\n",
        "\n",
        "Distributed Memory (DM) acts as a memory that remembers what is missing from the current context — or as the topic of the paragraph. While the word vectors represent the concept of a word, the document vector intends to represent the concept of a document. We again instantiate a Doc2Vec model with a vector size with 300 words and iterating over the training corpus 30 times."
      ],
      "metadata": {
        "id": "rJt-nPNPuNAV"
      }
    },
    {
      "cell_type": "code",
      "source": [
        "model_dmm = Doc2Vec(dm=1, dm_mean=1, vector_size=300, window=10, negative=5, min_count=1, workers=5, alpha=0.065, min_alpha=0.065)\n",
        "model_dmm.build_vocab([x for x in tqdm(train_tagged.values)])"
      ],
      "metadata": {
        "colab": {
          "base_uri": "https://localhost:8080/"
        },
        "id": "Q4VHI-ZbtQv9",
        "outputId": "3f9f50ec-3db8-4fcd-84aa-006f25055d57"
      },
      "execution_count": null,
      "outputs": [
        {
          "output_type": "stream",
          "name": "stderr",
          "text": [
            "100%|██████████| 8012/8012 [00:00<00:00, 931034.62it/s]\n"
          ]
        }
      ]
    },
    {
      "cell_type": "code",
      "source": [
        "for epoch in range(30):\n",
        "    model_dmm.train(utils.shuffle([x for x in tqdm(train_tagged.values)]), total_examples=len(train_tagged.values), epochs=1)\n",
        "    model_dmm.alpha -= 0.002\n",
        "    model_dmm.min_alpha = model_dmm.alpha"
      ],
      "metadata": {
        "colab": {
          "base_uri": "https://localhost:8080/"
        },
        "id": "0KMray9MuQ21",
        "outputId": "33b656f7-0f2d-4344-80d0-1da64520e716"
      },
      "execution_count": null,
      "outputs": [
        {
          "output_type": "stream",
          "name": "stderr",
          "text": [
            "100%|██████████| 8012/8012 [00:00<00:00, 1092092.02it/s]\n",
            "100%|██████████| 8012/8012 [00:00<00:00, 1199998.70it/s]\n",
            "100%|██████████| 8012/8012 [00:00<00:00, 2554912.46it/s]\n",
            "100%|██████████| 8012/8012 [00:00<00:00, 752019.95it/s]\n",
            "100%|██████████| 8012/8012 [00:00<00:00, 2522312.07it/s]\n",
            "100%|██████████| 8012/8012 [00:00<00:00, 1371007.45it/s]\n",
            "100%|██████████| 8012/8012 [00:00<00:00, 2567012.73it/s]\n",
            "100%|██████████| 8012/8012 [00:00<00:00, 2683015.06it/s]\n",
            "100%|██████████| 8012/8012 [00:00<00:00, 2651054.25it/s]\n",
            "100%|██████████| 8012/8012 [00:00<00:00, 1800415.95it/s]\n",
            "100%|██████████| 8012/8012 [00:00<00:00, 1307629.23it/s]\n",
            "100%|██████████| 8012/8012 [00:00<00:00, 1808263.22it/s]\n",
            "100%|██████████| 8012/8012 [00:00<00:00, 1265573.14it/s]\n",
            "100%|██████████| 8012/8012 [00:00<00:00, 1344405.65it/s]\n",
            "100%|██████████| 8012/8012 [00:00<00:00, 1534884.61it/s]\n",
            "100%|██████████| 8012/8012 [00:00<00:00, 2694416.58it/s]\n",
            "100%|██████████| 8012/8012 [00:00<00:00, 2614139.53it/s]\n",
            "100%|██████████| 8012/8012 [00:00<00:00, 1313609.71it/s]\n",
            "100%|██████████| 8012/8012 [00:00<00:00, 2591960.17it/s]\n",
            "100%|██████████| 8012/8012 [00:00<00:00, 1269637.44it/s]\n",
            "100%|██████████| 8012/8012 [00:00<00:00, 1362557.83it/s]\n",
            "100%|██████████| 8012/8012 [00:00<00:00, 1356288.64it/s]\n",
            "100%|██████████| 8012/8012 [00:00<00:00, 1809139.36it/s]\n",
            "100%|██████████| 8012/8012 [00:00<00:00, 2634841.12it/s]\n",
            "100%|██████████| 8012/8012 [00:00<00:00, 2759691.52it/s]\n",
            "100%|██████████| 8012/8012 [00:00<00:00, 1615303.00it/s]\n",
            "100%|██████████| 8012/8012 [00:00<00:00, 1269014.15it/s]\n",
            "100%|██████████| 8012/8012 [00:00<00:00, 1234742.93it/s]\n",
            "100%|██████████| 8012/8012 [00:00<00:00, 1071238.88it/s]\n",
            "100%|██████████| 8012/8012 [00:00<00:00, 2490717.73it/s]\n"
          ]
        }
      ]
    },
    {
      "cell_type": "code",
      "source": [
        "y_train, X_train = vec_for_learning(model_dmm, train_tagged)\n",
        "y_test, X_test = vec_for_learning(model_dmm, test_tagged)\n",
        "logreg.fit(X_train, y_train)\n",
        "y_pred = logreg.predict(X_test)\n",
        "print('Testing accuracy %s' % accuracy_score(y_test, y_pred))\n",
        "print('Testing F1 score: {}'.format(f1_score(y_test, y_pred, average='weighted')))"
      ],
      "metadata": {
        "colab": {
          "base_uri": "https://localhost:8080/"
        },
        "id": "UtYQvVk-uVJQ",
        "outputId": "ceb125de-b1de-45c2-b64c-9a2979531551"
      },
      "execution_count": null,
      "outputs": [
        {
          "output_type": "stream",
          "name": "stdout",
          "text": [
            "Testing accuracy 0.5919131411456383\n",
            "Testing F1 score: 0.6052992191003969\n"
          ]
        },
        {
          "output_type": "stream",
          "name": "stderr",
          "text": [
            "/usr/local/lib/python3.7/dist-packages/sklearn/linear_model/_logistic.py:818: ConvergenceWarning: lbfgs failed to converge (status=1):\n",
            "STOP: TOTAL NO. of ITERATIONS REACHED LIMIT.\n",
            "\n",
            "Increase the number of iterations (max_iter) or scale the data as shown in:\n",
            "    https://scikit-learn.org/stable/modules/preprocessing.html\n",
            "Please also refer to the documentation for alternative solver options:\n",
            "    https://scikit-learn.org/stable/modules/linear_model.html#logistic-regression\n",
            "  extra_warning_msg=_LOGISTIC_SOLVER_CONVERGENCE_MSG,\n"
          ]
        }
      ]
    },
    {
      "cell_type": "markdown",
      "source": [
        "According to Gensim doc2vec tutorial on the IMDB sentiment data set, combining a paragraph vector from Distributed Bag of Words (DBOW) and Distributed Memory (DM) improves performance. We will follow, pairing the models together for evaluation."
      ],
      "metadata": {
        "id": "uNoMJiIpuqiP"
      }
    },
    {
      "cell_type": "code",
      "source": [
        "from gensim.test.test_doc2vec import ConcatenatedDoc2Vec\n",
        "new_model = ConcatenatedDoc2Vec([model_dbow, model_dmm])"
      ],
      "metadata": {
        "id": "BuDNk5-ouVPm"
      },
      "execution_count": null,
      "outputs": []
    },
    {
      "cell_type": "code",
      "source": [
        "def get_vectors(model, tagged_docs):\n",
        "    sents = tagged_docs.values\n",
        "    targets, regressors = zip(*[(doc.tags[0], model.infer_vector(doc.words, steps=20)) for doc in sents])\n",
        "    return targets, regressors"
      ],
      "metadata": {
        "id": "h8xIgbswuueM"
      },
      "execution_count": null,
      "outputs": []
    },
    {
      "cell_type": "code",
      "source": [
        "y_train, X_train = get_vectors(new_model, train_tagged)\n",
        "y_test, X_test = get_vectors(new_model, test_tagged)\n",
        "logreg.fit(X_train, y_train)\n",
        "y_pred = logreg.predict(X_test)\n",
        "print('Testing accuracy %s' % accuracy_score(y_test, y_pred))\n",
        "print('Testing F1 score: {}'.format(f1_score(y_test, y_pred, average='weighted')))"
      ],
      "metadata": {
        "colab": {
          "base_uri": "https://localhost:8080/"
        },
        "id": "8_CiUJWouyOE",
        "outputId": "b6ce5d99-754c-4342-8f61-3e921442beae"
      },
      "execution_count": null,
      "outputs": [
        {
          "output_type": "stream",
          "name": "stdout",
          "text": [
            "Testing accuracy 0.6035192811681018\n",
            "Testing F1 score: 0.6122801157896894\n"
          ]
        },
        {
          "output_type": "stream",
          "name": "stderr",
          "text": [
            "/usr/local/lib/python3.7/dist-packages/sklearn/linear_model/_logistic.py:818: ConvergenceWarning: lbfgs failed to converge (status=1):\n",
            "STOP: TOTAL NO. of ITERATIONS REACHED LIMIT.\n",
            "\n",
            "Increase the number of iterations (max_iter) or scale the data as shown in:\n",
            "    https://scikit-learn.org/stable/modules/preprocessing.html\n",
            "Please also refer to the documentation for alternative solver options:\n",
            "    https://scikit-learn.org/stable/modules/linear_model.html#logistic-regression\n",
            "  extra_warning_msg=_LOGISTIC_SOLVER_CONVERGENCE_MSG,\n"
          ]
        }
      ]
    },
    {
      "cell_type": "code",
      "source": [
        "###################################################"
      ],
      "metadata": {
        "id": "76H_T0gVs3Nc"
      },
      "execution_count": null,
      "outputs": []
    },
    {
      "cell_type": "markdown",
      "source": [
        "## Classification"
      ],
      "metadata": {
        "id": "DxEXi3lahyU6"
      }
    },
    {
      "cell_type": "markdown",
      "source": [
        "In this section, I will fit the vectors given by BoW and TF-IDF model to various machine learning models including logistic regression (already did), naive bayes, SVM, decision tree, and ensemble learning models incluing LightGBM and XGBoost, use grid search to fine tune parameters and use several metrics to evaluate model performance."
      ],
      "metadata": {
        "id": "sgz0QIt-h1UZ"
      }
    },
    {
      "cell_type": "code",
      "source": [
        ""
      ],
      "metadata": {
        "id": "LzMwVpYlgdLJ"
      },
      "execution_count": null,
      "outputs": []
    }
  ]
}